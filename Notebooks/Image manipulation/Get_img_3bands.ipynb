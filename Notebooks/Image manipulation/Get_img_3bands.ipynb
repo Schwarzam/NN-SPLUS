{
  "nbformat": 4,
  "nbformat_minor": 0,
  "metadata": {
    "colab": {
      "name": "Get_img_3bands.ipynb",
      "provenance": [],
      "collapsed_sections": [],
      "authorship_tag": "ABX9TyNBilbCJMgVhP6RswgilEvB",
      "include_colab_link": true
    },
    "kernelspec": {
      "name": "python3",
      "display_name": "Python 3"
    }
  },
  "cells": [
    {
      "cell_type": "markdown",
      "metadata": {
        "id": "view-in-github",
        "colab_type": "text"
      },
      "source": [
        "<a href=\"https://colab.research.google.com/github/Schwarzam/NN-SPLUS/blob/master/Get_img_3bands.ipynb\" target=\"_parent\"><img src=\"https://colab.research.google.com/assets/colab-badge.svg\" alt=\"Open In Colab\"/></a>"
      ]
    },
    {
      "cell_type": "code",
      "metadata": {
        "id": "UZvQBMVI4IQx",
        "colab_type": "code",
        "colab": {}
      },
      "source": [
        "import glob\n",
        "import os\n",
        "import numpy as np\n",
        "import matplotlib.pyplot as plt\n",
        "from astropy.utils.data import get_pkg_data_filename\n",
        "from astropy.io import fits\n",
        "from astropy.visualization import *\n",
        "import pandas as pd"
      ],
      "execution_count": 1,
      "outputs": []
    },
    {
      "cell_type": "code",
      "metadata": {
        "id": "OmGSTLE34Uuy",
        "colab_type": "code",
        "colab": {}
      },
      "source": [
        "def get_img(name, type):\n",
        "\n",
        "  PATH_G = \"/Users/oliveira/Downloads/G_stamps\"\n",
        "  PATH_R = \"/Users/oliveira/Downloads/R_stamps\"\n",
        "  PATH_I = \"/Users/oliveira/Downloads/I_stamps\"\n",
        "\n",
        "  image_fileG = get_pkg_data_filename(f'{PATH_G}/{name}_G.fits')\n",
        "  image_dataG = fits.getdata(image_fileG, ext=0)\n",
        "  image_fileR = get_pkg_data_filename(f'{PATH_R}/{name}_R.fits')\n",
        "  image_dataR = fits.getdata(image_fileR, ext=0)\n",
        "  image_fileI = get_pkg_data_filename(f'{PATH_I}/{name}_I.fits')\n",
        "  image_dataI = fits.getdata(image_fileI, ext=0)\n",
        "\n",
        "  image = make_lupton_rgb(image_dataI, image_dataR, image_dataG)\n",
        "\n",
        "  plt.imsave(arr=image, fname=f'/Users/oliveira/Documents/Galaxies/{type}/{name}.jpg', dpi = 100)"
      ],
      "execution_count": 11,
      "outputs": []
    },
    {
      "cell_type": "code",
      "metadata": {
        "id": "qNmzf03hUpvE",
        "colab_type": "code",
        "colab": {}
      },
      "source": [
        "path_csv = 'https://raw.githubusercontent.com/Schwarzam/NN-SPLUS/master/zoo2.csv'\n",
        "df = pd.read_csv(path_csv)"
      ],
      "execution_count": 12,
      "outputs": []
    },
    {
      "cell_type": "code",
      "metadata": {
        "id": "op21oyCcU4YC",
        "colab_type": "code",
        "colab": {}
      },
      "source": [
        "targetMergers = list(df[df['P_merg']>0.95]['ID'])\n",
        "for obj in targetMergers:\n",
        "  try:\n",
        "    get_img(obj, 'Merger')\n",
        "  except:\n",
        "    pass"
      ],
      "execution_count": 13,
      "outputs": []
    },
    {
      "cell_type": "code",
      "metadata": {
        "id": "oT3zEmiGU4uW",
        "colab_type": "code",
        "colab": {}
      },
      "source": [
        "targetSpiral = list(df[df['P_disk']>0.99]['ID'])\n",
        "for obj in targetSpiral:\n",
        "  try:\n",
        "    get_img(obj, 'Spiral')\n",
        "  except:\n",
        "    pass"
      ],
      "execution_count": 14,
      "outputs": []
    },
    {
      "cell_type": "code",
      "metadata": {
        "id": "exFNR28JdE9U",
        "colab_type": "code",
        "colab": {}
      },
      "source": [
        "targetElliptical = list(df[df['P_bulge']>0.99]['ID'])\n",
        "for obj in targetElliptical:\n",
        "  try:\n",
        "    get_img(obj, 'Elliptical')\n",
        "  except:\n",
        "    pass"
      ],
      "execution_count": 15,
      "outputs": []
    },
    {
      "cell_type": "code",
      "metadata": {
        "id": "9mNpT2wAdUmT",
        "colab_type": "code",
        "colab": {}
      },
      "source": [
        "targetLenticular = list(df[df['P_S0']>0.99]['ID'])\n",
        "for obj in targetLenticular:\n",
        "  try:\n",
        "    get_img(obj, 'Lenticular')\n",
        "  except:\n",
        "    pass"
      ],
      "execution_count": 16,
      "outputs": []
    },
    {
      "cell_type": "code",
      "metadata": {
        "id": "uugxsCr9u_to",
        "colab_type": "code",
        "colab": {}
      },
      "source": [
        ""
      ],
      "execution_count": null,
      "outputs": []
    }
  ]
}