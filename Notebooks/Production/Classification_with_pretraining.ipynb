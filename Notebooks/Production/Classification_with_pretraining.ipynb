{
  "nbformat": 4,
  "nbformat_minor": 0,
  "metadata": {
    "colab": {
      "name": "Classification with pretraining.ipynb",
      "provenance": [],
      "authorship_tag": "ABX9TyNQlcdaoUvxtlLPmOUu2cJb",
      "include_colab_link": true
    },
    "kernelspec": {
      "name": "python3",
      "display_name": "Python 3"
    },
    "accelerator": "GPU"
  },
  "cells": [
    {
      "cell_type": "markdown",
      "metadata": {
        "id": "view-in-github",
        "colab_type": "text"
      },
      "source": [
        "<a href=\"https://colab.research.google.com/github/Schwarzam/NN-SPLUS/blob/master/Classification_with_pretraining.ipynb\" target=\"_parent\"><img src=\"https://colab.research.google.com/assets/colab-badge.svg\" alt=\"Open In Colab\"/></a>"
      ]
    },
    {
      "cell_type": "code",
      "metadata": {
        "id": "Fe07OGSVokK0",
        "colab_type": "code",
        "colab": {}
      },
      "source": [
        "import os\n",
        "import shutil\n",
        "import zipfile\n",
        "import numpy as np\n",
        "import matplotlib.pyplot as plt\n",
        "import pandas as pd\n",
        "from os import listdir\n",
        "from os.path import isfile, join"
      ],
      "execution_count": null,
      "outputs": []
    },
    {
      "cell_type": "code",
      "metadata": {
        "id": "Q8ujcCguo6W5",
        "colab_type": "code",
        "colab": {
          "base_uri": "https://localhost:8080/",
          "height": 204
        },
        "outputId": "de90799c-ceae-48b1-a7b9-6241b70f78c4"
      },
      "source": [
        "!wget --no-check-certificate \\\n",
        "    https://storage.googleapis.com/trainsets/ClassGalaxies.zip \\\n",
        "    -O /tmp/ClassGalaxies.zip"
      ],
      "execution_count": null,
      "outputs": [
        {
          "output_type": "stream",
          "text": [
            "--2020-07-27 15:45:41--  https://storage.googleapis.com/trainsets/ClassGalaxies.zip\n",
            "Resolving storage.googleapis.com (storage.googleapis.com)... 173.194.216.128, 172.217.193.128, 172.217.204.128, ...\n",
            "Connecting to storage.googleapis.com (storage.googleapis.com)|173.194.216.128|:443... connected.\n",
            "HTTP request sent, awaiting response... 200 OK\n",
            "Length: 21166190 (20M) [application/zip]\n",
            "Saving to: ‘/tmp/ClassGalaxies.zip’\n",
            "\n",
            "/tmp/ClassGalaxies. 100%[===================>]  20.19M  16.9MB/s    in 1.2s    \n",
            "\n",
            "2020-07-27 15:45:43 (16.9 MB/s) - ‘/tmp/ClassGalaxies.zip’ saved [21166190/21166190]\n",
            "\n"
          ],
          "name": "stdout"
        }
      ]
    },
    {
      "cell_type": "code",
      "metadata": {
        "id": "fOFExiCEo8AM",
        "colab_type": "code",
        "colab": {}
      },
      "source": [
        "local_zip = '/tmp/ClassGalaxies.zip'\n",
        "zip_ref = zipfile.ZipFile(local_zip, 'r')\n",
        "zip_ref.extractall('/tmp/')\n",
        "zip_ref.close()"
      ],
      "execution_count": null,
      "outputs": []
    },
    {
      "cell_type": "code",
      "metadata": {
        "id": "m1IBIR6jo-Et",
        "colab_type": "code",
        "colab": {}
      },
      "source": [
        "base_dir = '/tmp/Galaxies/'\n",
        "train_dir = os.path.join(base_dir, 'train')\n",
        "test_dir = os.path.join(base_dir, 'test')\n",
        "validation_dir = os.path.join(base_dir, 'validation')\n",
        "\n",
        "# Directory with our training merger pictures\n",
        "train_merger_dir = os.path.join(train_dir, 'Merger')\n",
        "# Directory with our training spiral pictures\n",
        "train_spiral_dir = os.path.join(train_dir, 'Spiral')\n",
        "# Directory with our training elliptical pictures\n",
        "train_elliptical_dir = os.path.join(train_dir, 'Elliptical')\n",
        "# Directory with our training lenticular pictures\n",
        "train_lenticular_dir = os.path.join(train_dir, 'Lenticular')\n",
        "\n",
        "# Directory with our training merger pictures\n",
        "test_merger_dir = os.path.join(test_dir, 'Merger')\n",
        "# Directory with our training spiral pictures\n",
        "test_spiral_dir = os.path.join(test_dir, 'Spiral')\n",
        "# Directory with our training elliptical pictures\n",
        "test_elliptical_dir = os.path.join(test_dir, 'Elliptical')\n",
        "# Directory with our training lenticular pictures\n",
        "test_lenticular_dir = os.path.join(test_dir, 'Lenticular')\n",
        "\n",
        "# Directory with our validation merger pictures\n",
        "validation_merger_dir = os.path.join(validation_dir, 'Merger')\n",
        "# Directory with our validation spiral pictures\n",
        "validation_spiral_dir = os.path.join(validation_dir, 'Spiral')\n",
        "# Directory with our validation elliptical pictures\n",
        "validation_elliptical_dir = os.path.join(validation_dir, 'Elliptical')\n",
        "# Directory with our validation lenticular pictures\n",
        "validation_lenticular_dir = os.path.join(validation_dir, 'Lenticular')\n",
        "\n",
        "try:\n",
        "  os.mkdir(train_dir)\n",
        "  os.mkdir(test_dir)\n",
        "  os.mkdir(validation_dir)\n",
        "except:\n",
        "  pass\n",
        "\n",
        "try:\n",
        "  os.mkdir(train_merger_dir)\n",
        "  os.mkdir(train_spiral_dir)\n",
        "  os.mkdir(train_elliptical_dir)\n",
        "  os.mkdir(train_lenticular_dir)\n",
        "\n",
        "  os.mkdir(test_merger_dir)\n",
        "  os.mkdir(test_spiral_dir)\n",
        "  os.mkdir(test_elliptical_dir)\n",
        "  os.mkdir(test_lenticular_dir)\n",
        "\n",
        "  os.mkdir(validation_merger_dir)\n",
        "  os.mkdir(validation_spiral_dir)\n",
        "  os.mkdir(validation_elliptical_dir)\n",
        "  os.mkdir(validation_lenticular_dir)\n",
        "except:\n",
        "  pass"
      ],
      "execution_count": null,
      "outputs": []
    },
    {
      "cell_type": "code",
      "metadata": {
        "id": "SP4Q2LAgpBPm",
        "colab_type": "code",
        "colab": {}
      },
      "source": [
        "Merger_dir = os.path.join(base_dir, 'Merger')\n",
        "Spiral_dir = os.path.join(base_dir, 'Spiral')\n",
        "Elliptical_dir = os.path.join(base_dir, 'Elliptical')\n",
        "Lenticular_dir = os.path.join(base_dir, 'Lenticular')"
      ],
      "execution_count": null,
      "outputs": []
    },
    {
      "cell_type": "code",
      "metadata": {
        "id": "ZM_U04ZC9KPN",
        "colab_type": "code",
        "colab": {}
      },
      "source": [
        "train_set = 0.7\n",
        "test_set = 0.2\n",
        "val_set = 0.1"
      ],
      "execution_count": null,
      "outputs": []
    },
    {
      "cell_type": "code",
      "metadata": {
        "id": "SkNjeMy09IbH",
        "colab_type": "code",
        "colab": {}
      },
      "source": [
        "source_dirs = [Merger_dir, Spiral_dir, Elliptical_dir, Lenticular_dir]\n",
        "\n",
        "## create train dirs\n",
        "for src in source_dirs:\n",
        "  files = [f for f in listdir(src) if isfile(join(src, f))]\n",
        "\n",
        "  if str(src).split('/')[3] == 'Merger':\n",
        "    dest = train_merger_dir\n",
        "  if str(src).split('/')[3] == 'Spiral':\n",
        "    dest = train_spiral_dir\n",
        "  if str(src).split('/')[3] == 'Elliptical':\n",
        "    dest = train_elliptical_dir\n",
        "  if str(src).split('/')[3] == 'Lenticular':\n",
        "    dest = train_lenticular_dir\n",
        "\n",
        "  files = files[0:int(train_set*len(files))]\n",
        "\n",
        "  for filename in files:\n",
        "    source = os.path.join(src, filename)\n",
        "    dst = os.path.join(dest, filename)\n",
        "    shutil.copyfile(source, dst)\n",
        "    del source\n",
        "    dst = dest\n",
        "\n",
        "## create test dirs\n",
        "for src in source_dirs:\n",
        "  files = [f for f in listdir(src) if isfile(join(src, f))]\n",
        "\n",
        "  if str(src).split('/')[3] == 'Merger':\n",
        "    dest = test_merger_dir\n",
        "  if str(src).split('/')[3] == 'Spiral':\n",
        "    dest = test_spiral_dir\n",
        "  if str(src).split('/')[3] == 'Elliptical':\n",
        "    dest = test_elliptical_dir\n",
        "  if str(src).split('/')[3] == 'Lenticular':\n",
        "    dest = test_lenticular_dir\n",
        "\n",
        "  files = files[int(train_set*len(files)):int(train_set*len(files)) + int(test_set*len(files))]\n",
        "\n",
        "  for filename in files:\n",
        "    source = os.path.join(src, filename)\n",
        "    dst = os.path.join(dest, filename)\n",
        "    shutil.copyfile(source, dst)\n",
        "    del source\n",
        "    dst = dest\n",
        "\n",
        "## create validation dirs\n",
        "for src in source_dirs:\n",
        "  files = [f for f in listdir(src) if isfile(join(src, f))]\n",
        "\n",
        "  if str(src).split('/')[3] == 'Merger':\n",
        "    dest = validation_merger_dir\n",
        "  if str(src).split('/')[3] == 'Spiral':\n",
        "    dest = validation_spiral_dir\n",
        "  if str(src).split('/')[3] == 'Elliptical':\n",
        "    dest = validation_elliptical_dir\n",
        "  if str(src).split('/')[3] == 'Lenticular':\n",
        "    dest = validation_lenticular_dir\n",
        "\n",
        "  files = files[int(train_set*len(files)) + int(test_set*len(files)):int(train_set*len(files)) + int(test_set*len(files)) + int(val_set*len(files))]\n",
        "\n",
        "  for filename in files:\n",
        "    source = os.path.join(src, filename)\n",
        "    dst = os.path.join(dest, filename)\n",
        "    shutil.copyfile(source, dst)\n",
        "    del source\n",
        "    dst = dest"
      ],
      "execution_count": null,
      "outputs": []
    },
    {
      "cell_type": "code",
      "metadata": {
        "id": "UnosP0V9-MUK",
        "colab_type": "code",
        "colab": {
          "base_uri": "https://localhost:8080/",
          "height": 68
        },
        "outputId": "d81030c0-86bb-44fd-c93d-3a7f3fecb827"
      },
      "source": [
        "from keras.preprocessing.image import ImageDataGenerator\n",
        "\n",
        "train_datagen = ImageDataGenerator(rescale=1./255,\n",
        "                                   rotation_range=40,\n",
        "                                   width_shift_range=0.2,\n",
        "                                   height_shift_range=0.2,\n",
        "                                   shear_range=0.2,\n",
        "                                   zoom_range=0.2,\n",
        "                                   horizontal_flip=True, \n",
        "                                   fill_mode='nearest')\n",
        "\n",
        "validation_datagen = ImageDataGenerator(rescale=1./255)\n",
        "test_datagen = ImageDataGenerator(rescale=1./255)\n",
        "\n",
        "train_generator = train_datagen.flow_from_directory(\n",
        "    train_dir,\n",
        "    target_size=(217,217),\n",
        "    batch_size=20,\n",
        "    class_mode='categorical'\n",
        ")\n",
        "\n",
        "test_generator = test_datagen.flow_from_directory(\n",
        "    test_dir,\n",
        "    target_size=(217,217),\n",
        "    batch_size=20,\n",
        "    class_mode='categorical'\n",
        ")\n",
        "\n",
        "validation_generator = validation_datagen.flow_from_directory(\n",
        "    validation_dir,\n",
        "    target_size=(217,217),\n",
        "    batch_size=20,\n",
        "    class_mode='categorical'\n",
        ")"
      ],
      "execution_count": null,
      "outputs": [
        {
          "output_type": "stream",
          "text": [
            "Found 1867 images belonging to 4 classes.\n",
            "Found 532 images belonging to 4 classes.\n",
            "Found 265 images belonging to 4 classes.\n"
          ],
          "name": "stdout"
        }
      ]
    },
    {
      "cell_type": "code",
      "metadata": {
        "id": "j3pg52IUpLOT",
        "colab_type": "code",
        "colab": {
          "base_uri": "https://localhost:8080/",
          "height": 51
        },
        "outputId": "110811fc-81c3-42fb-c413-24d53315627a"
      },
      "source": [
        "#from keras.applications import VGG16\n",
        "\n",
        "#conv_base = VGG16(weights='imagenet',\n",
        "#                  include_top=False,\n",
        "#                  input_shape=(217, 217, 3))\n",
        "\n",
        "from keras.applications import InceptionV3\n",
        "\n",
        "conv_base = InceptionV3(weights='imagenet',\n",
        "                  include_top=False,\n",
        "                  input_shape=(217, 217, 3))"
      ],
      "execution_count": null,
      "outputs": [
        {
          "output_type": "stream",
          "text": [
            "Downloading data from https://github.com/fchollet/deep-learning-models/releases/download/v0.5/inception_v3_weights_tf_dim_ordering_tf_kernels_notop.h5\n",
            "87916544/87910968 [==============================] - 1s 0us/step\n"
          ],
          "name": "stdout"
        }
      ]
    },
    {
      "cell_type": "code",
      "metadata": {
        "id": "hbEs33AiNpjj",
        "colab_type": "code",
        "colab": {}
      },
      "source": [
        "conv_base.summary()"
      ],
      "execution_count": null,
      "outputs": []
    },
    {
      "cell_type": "code",
      "metadata": {
        "id": "23Ouz2mUMVzH",
        "colab_type": "code",
        "colab": {}
      },
      "source": [
        "#conv_base.treinable = True\n",
        "\n",
        "#set_trainable = False\n",
        "#for layer in conv_base.layers:\n",
        "#  if layer.name  == 'block5_conv1':\n",
        "#    set_trainable = True\n",
        "#  if set_trainable:\n",
        "#    layer.trainable = True\n",
        "#  else:\n",
        "#    layer.trainable = False"
      ],
      "execution_count": null,
      "outputs": []
    },
    {
      "cell_type": "code",
      "metadata": {
        "id": "jaBPptXcpqr5",
        "colab_type": "code",
        "colab": {}
      },
      "source": [
        "from keras import layers, models\n",
        "\n",
        "model = models.Sequential()\n",
        "\n",
        "model.add(conv_base)\n",
        "model.add(layers.Flatten())\n",
        "model.add(layers.Dropout(0.5))\n",
        "model.add(layers.Dense(256, activation='relu'))\n",
        "model.add(layers.Dense(4, activation='softmax'))"
      ],
      "execution_count": null,
      "outputs": []
    },
    {
      "cell_type": "code",
      "metadata": {
        "id": "nz6RFaG6-4md",
        "colab_type": "code",
        "colab": {}
      },
      "source": [
        "from keras import optimizers\n",
        "model.compile(loss = 'categorical_crossentropy', \n",
        "              optimizer=optimizers.RMSprop(lr=1e-4),\n",
        "              metrics=['accuracy'])"
      ],
      "execution_count": null,
      "outputs": []
    },
    {
      "cell_type": "code",
      "metadata": {
        "id": "U_dwm4b6-4q_",
        "colab_type": "code",
        "colab": {
          "base_uri": "https://localhost:8080/",
          "height": 1000
        },
        "outputId": "8bf05346-3d9a-4a48-e718-da0bc8663fb7"
      },
      "source": [
        "history = model.fit_generator(\n",
        "      train_generator,\n",
        "      epochs=75,\n",
        "      validation_data=test_generator,\n",
        "      verbose=1)"
      ],
      "execution_count": null,
      "outputs": [
        {
          "output_type": "stream",
          "text": [
            "Epoch 1/75\n",
            "94/94 [==============================] - 89s 951ms/step - loss: 0.8881 - accuracy: 0.7167 - val_loss: 1.9414 - val_accuracy: 0.4211\n",
            "Epoch 2/75\n",
            "94/94 [==============================] - 59s 633ms/step - loss: 0.4415 - accuracy: 0.8361 - val_loss: 3.4259 - val_accuracy: 0.3684\n",
            "Epoch 3/75\n",
            "94/94 [==============================] - 60s 633ms/step - loss: 0.3689 - accuracy: 0.8500 - val_loss: 7.6797 - val_accuracy: 0.4643\n",
            "Epoch 4/75\n",
            "94/94 [==============================] - 59s 633ms/step - loss: 0.3385 - accuracy: 0.8731 - val_loss: 3.1538 - val_accuracy: 0.8289\n",
            "Epoch 5/75\n",
            "94/94 [==============================] - 60s 636ms/step - loss: 0.2979 - accuracy: 0.8918 - val_loss: 1.7985 - val_accuracy: 0.8102\n",
            "Epoch 6/75\n",
            "94/94 [==============================] - 60s 639ms/step - loss: 0.2851 - accuracy: 0.8923 - val_loss: 0.8238 - val_accuracy: 0.8571\n",
            "Epoch 7/75\n",
            "94/94 [==============================] - 60s 640ms/step - loss: 0.2858 - accuracy: 0.9009 - val_loss: 6.5265e-04 - val_accuracy: 0.7989\n",
            "Epoch 8/75\n",
            "94/94 [==============================] - 60s 639ms/step - loss: 0.2662 - accuracy: 0.9004 - val_loss: 17.7595 - val_accuracy: 0.8515\n",
            "Epoch 9/75\n",
            "94/94 [==============================] - 60s 639ms/step - loss: 0.2196 - accuracy: 0.9138 - val_loss: 7.2257 - val_accuracy: 0.8120\n",
            "Epoch 10/75\n",
            "94/94 [==============================] - 60s 640ms/step - loss: 0.2160 - accuracy: 0.9122 - val_loss: 0.2624 - val_accuracy: 0.8609\n",
            "Epoch 11/75\n",
            "94/94 [==============================] - 60s 643ms/step - loss: 0.2017 - accuracy: 0.9138 - val_loss: 0.0858 - val_accuracy: 0.8459\n",
            "Epoch 12/75\n",
            "94/94 [==============================] - 60s 642ms/step - loss: 0.2592 - accuracy: 0.9207 - val_loss: 2.8882 - val_accuracy: 0.9004\n",
            "Epoch 13/75\n",
            "94/94 [==============================] - 60s 642ms/step - loss: 0.2143 - accuracy: 0.9197 - val_loss: 0.1568 - val_accuracy: 0.9079\n",
            "Epoch 14/75\n",
            "94/94 [==============================] - 60s 643ms/step - loss: 0.8987 - accuracy: 0.9159 - val_loss: 4.0355 - val_accuracy: 0.8985\n",
            "Epoch 15/75\n",
            "94/94 [==============================] - 60s 641ms/step - loss: 0.2194 - accuracy: 0.9207 - val_loss: 0.4902 - val_accuracy: 0.8778\n",
            "Epoch 16/75\n",
            "94/94 [==============================] - 60s 643ms/step - loss: 0.1915 - accuracy: 0.9304 - val_loss: 26.8565 - val_accuracy: 0.7932\n",
            "Epoch 17/75\n",
            "94/94 [==============================] - 60s 642ms/step - loss: 0.1887 - accuracy: 0.9234 - val_loss: 0.9246 - val_accuracy: 0.9023\n",
            "Epoch 18/75\n",
            "94/94 [==============================] - 60s 644ms/step - loss: 0.9146 - accuracy: 0.9197 - val_loss: 0.1846 - val_accuracy: 0.8985\n",
            "Epoch 19/75\n",
            "94/94 [==============================] - 60s 643ms/step - loss: 0.1895 - accuracy: 0.9261 - val_loss: 0.8072 - val_accuracy: 0.9004\n",
            "Epoch 20/75\n",
            "94/94 [==============================] - 60s 642ms/step - loss: 0.1954 - accuracy: 0.9261 - val_loss: 0.2587 - val_accuracy: 0.8835\n",
            "Epoch 21/75\n",
            "94/94 [==============================] - 60s 642ms/step - loss: 0.1728 - accuracy: 0.9314 - val_loss: 0.0140 - val_accuracy: 0.8947\n",
            "Epoch 22/75\n",
            "94/94 [==============================] - 60s 641ms/step - loss: 0.1748 - accuracy: 0.9352 - val_loss: 1.3050 - val_accuracy: 0.9004\n",
            "Epoch 23/75\n",
            "94/94 [==============================] - 60s 641ms/step - loss: 0.1890 - accuracy: 0.9330 - val_loss: 0.1796 - val_accuracy: 0.8741\n",
            "Epoch 24/75\n",
            "94/94 [==============================] - 60s 642ms/step - loss: 0.1849 - accuracy: 0.9347 - val_loss: 0.0055 - val_accuracy: 0.9041\n",
            "Epoch 25/75\n",
            "94/94 [==============================] - 60s 641ms/step - loss: 0.1690 - accuracy: 0.9314 - val_loss: 0.4135 - val_accuracy: 0.9098\n",
            "Epoch 26/75\n",
            "94/94 [==============================] - 60s 643ms/step - loss: 0.1674 - accuracy: 0.9320 - val_loss: 1.1909 - val_accuracy: 0.9079\n",
            "Epoch 27/75\n",
            "94/94 [==============================] - 60s 642ms/step - loss: 0.1614 - accuracy: 0.9432 - val_loss: 0.2408 - val_accuracy: 0.8947\n",
            "Epoch 28/75\n",
            "94/94 [==============================] - 60s 643ms/step - loss: 0.1699 - accuracy: 0.9298 - val_loss: 0.1339 - val_accuracy: 0.8910\n",
            "Epoch 29/75\n",
            "94/94 [==============================] - 61s 644ms/step - loss: 0.2688 - accuracy: 0.9363 - val_loss: 0.4567 - val_accuracy: 0.9154\n",
            "Epoch 30/75\n",
            "94/94 [==============================] - 60s 641ms/step - loss: 0.1627 - accuracy: 0.9357 - val_loss: 0.2258 - val_accuracy: 0.9060\n",
            "Epoch 31/75\n",
            "94/94 [==============================] - 60s 640ms/step - loss: 0.1777 - accuracy: 0.9389 - val_loss: 0.1011 - val_accuracy: 0.9079\n",
            "Epoch 32/75\n",
            "94/94 [==============================] - 60s 641ms/step - loss: 0.1599 - accuracy: 0.9411 - val_loss: 0.2239 - val_accuracy: 0.8929\n",
            "Epoch 33/75\n",
            "94/94 [==============================] - 60s 643ms/step - loss: 0.1646 - accuracy: 0.9411 - val_loss: 1.2323 - val_accuracy: 0.8947\n",
            "Epoch 34/75\n",
            "94/94 [==============================] - 60s 642ms/step - loss: 0.1489 - accuracy: 0.9416 - val_loss: 0.1918 - val_accuracy: 0.8703\n",
            "Epoch 35/75\n",
            "94/94 [==============================] - 60s 641ms/step - loss: 0.7556 - accuracy: 0.9411 - val_loss: 4.5921 - val_accuracy: 0.8985\n",
            "Epoch 36/75\n",
            "94/94 [==============================] - 60s 642ms/step - loss: 0.2541 - accuracy: 0.9384 - val_loss: 9.5079 - val_accuracy: 0.8045\n",
            "Epoch 37/75\n",
            "94/94 [==============================] - 60s 642ms/step - loss: 0.1468 - accuracy: 0.9416 - val_loss: 8.0365e-06 - val_accuracy: 0.9267\n",
            "Epoch 38/75\n",
            "94/94 [==============================] - 60s 642ms/step - loss: 0.1804 - accuracy: 0.9443 - val_loss: 0.0755 - val_accuracy: 0.9117\n",
            "Epoch 39/75\n",
            "94/94 [==============================] - 60s 642ms/step - loss: 0.2445 - accuracy: 0.9539 - val_loss: 97.9835 - val_accuracy: 0.8684\n",
            "Epoch 40/75\n",
            "94/94 [==============================] - 60s 641ms/step - loss: 0.1496 - accuracy: 0.9470 - val_loss: 0.0000e+00 - val_accuracy: 0.8741\n",
            "Epoch 41/75\n",
            "94/94 [==============================] - 60s 642ms/step - loss: 0.1410 - accuracy: 0.9448 - val_loss: 0.2380 - val_accuracy: 0.9098\n",
            "Epoch 42/75\n",
            "94/94 [==============================] - 60s 642ms/step - loss: 0.2302 - accuracy: 0.9497 - val_loss: 16.8946 - val_accuracy: 0.8571\n",
            "Epoch 43/75\n",
            "94/94 [==============================] - 60s 642ms/step - loss: 0.1600 - accuracy: 0.9438 - val_loss: 0.8026 - val_accuracy: 0.9154\n",
            "Epoch 44/75\n",
            "94/94 [==============================] - 60s 638ms/step - loss: 0.1348 - accuracy: 0.9438 - val_loss: 0.6525 - val_accuracy: 0.8797\n",
            "Epoch 45/75\n",
            "94/94 [==============================] - 60s 635ms/step - loss: 0.2110 - accuracy: 0.9363 - val_loss: 1.8516 - val_accuracy: 0.9192\n",
            "Epoch 46/75\n",
            "94/94 [==============================] - 60s 639ms/step - loss: 0.2404 - accuracy: 0.9464 - val_loss: 0.3227 - val_accuracy: 0.8759\n",
            "Epoch 47/75\n",
            "94/94 [==============================] - 60s 637ms/step - loss: 0.1478 - accuracy: 0.9470 - val_loss: 0.9099 - val_accuracy: 0.8910\n",
            "Epoch 48/75\n",
            "94/94 [==============================] - 60s 638ms/step - loss: 0.2139 - accuracy: 0.9416 - val_loss: 0.7769 - val_accuracy: 0.8853\n",
            "Epoch 49/75\n",
            "94/94 [==============================] - 60s 640ms/step - loss: 0.1165 - accuracy: 0.9497 - val_loss: 1.3148 - val_accuracy: 0.8910\n",
            "Epoch 50/75\n",
            "94/94 [==============================] - 60s 640ms/step - loss: 0.1698 - accuracy: 0.9405 - val_loss: 0.0000e+00 - val_accuracy: 0.8741\n",
            "Epoch 51/75\n",
            "94/94 [==============================] - 60s 639ms/step - loss: 0.1460 - accuracy: 0.9443 - val_loss: 0.0753 - val_accuracy: 0.9023\n",
            "Epoch 52/75\n",
            "94/94 [==============================] - 60s 637ms/step - loss: 0.1529 - accuracy: 0.9448 - val_loss: 4.1886 - val_accuracy: 0.8703\n",
            "Epoch 53/75\n",
            "76/94 [=======================>......] - ETA: 10s - loss: 0.2441 - accuracy: 0.9423"
          ],
          "name": "stdout"
        }
      ]
    },
    {
      "cell_type": "code",
      "metadata": {
        "id": "x0IOdjkwLQXV",
        "colab_type": "code",
        "colab": {
          "base_uri": "https://localhost:8080/",
          "height": 51
        },
        "outputId": "2afc3f4e-449e-47dc-d006-794d91194ecb"
      },
      "source": [
        "resultado = model.evaluate(validation_generator)\n",
        "resultado"
      ],
      "execution_count": null,
      "outputs": [
        {
          "output_type": "stream",
          "text": [
            "14/14 [==============================] - 3s 235ms/step\n"
          ],
          "name": "stdout"
        },
        {
          "output_type": "execute_result",
          "data": {
            "text/plain": [
              "[0.008394962176680565, 0.8943396210670471]"
            ]
          },
          "metadata": {
            "tags": []
          },
          "execution_count": 78
        }
      ]
    },
    {
      "cell_type": "code",
      "metadata": {
        "id": "HeZE6YnrHrvX",
        "colab_type": "code",
        "colab": {}
      },
      "source": [
        "acc = history.history['accuracy']\n",
        "val_acc = history.history['val_accuracy']\n",
        "loss = history.history['loss']\n",
        "val_loss = history.history['val_loss']"
      ],
      "execution_count": null,
      "outputs": []
    },
    {
      "cell_type": "code",
      "metadata": {
        "id": "Jw4fD8LXsbU8",
        "colab_type": "code",
        "colab": {
          "base_uri": "https://localhost:8080/",
          "height": 281
        },
        "outputId": "144ed8bc-72da-4b7c-e386-f30846f7777b"
      },
      "source": [
        "epochs = range(1, len(acc)+1)\n",
        "\n",
        "plt.plot(epochs, loss, 'b', label='Training Loss')\n",
        "plt.plot(epochs, val_loss, 'r', label='Validation Loss')\n",
        "plt.title('Training and validation Loss')\n",
        "plt.legend()\n",
        "plt.show()"
      ],
      "execution_count": null,
      "outputs": [
        {
          "output_type": "display_data",
          "data": {
            "image/png": "[encoded data removed]",
            "text/plain": [
              "<Figure size 432x288 with 1 Axes>"
            ]
          },
          "metadata": {
            "tags": [],
            "needs_background": "light"
          }
        }
      ]
    },
    {
      "cell_type": "code",
      "metadata": {
        "id": "X08jcgAqHt4-",
        "colab_type": "code",
        "colab": {
          "base_uri": "https://localhost:8080/",
          "height": 281
        },
        "outputId": "f9c02323-8f11-4c8f-8728-831c3da3a33c"
      },
      "source": [
        "plt.plot(epochs, acc, 'ko', label='Training acc')\n",
        "plt.plot(epochs, val_acc, 'k', label='Validation acc')\n",
        "plt.title('Training and validation accuracy')\n",
        "plt.legend()\n",
        "plt.show()"
      ],
      "execution_count": null,
      "outputs": [
        {
          "output_type": "display_data",
          "data": {
            "image/png": "[encoded data removed]",
            "text/plain": [
              "<Figure size 432x288 with 1 Axes>"
            ]
          },
          "metadata": {
            "tags": [],
            "needs_background": "light"
          }
        }
      ]
    },
    {
      "cell_type": "code",
      "metadata": {
        "id": "R8_Y9kSiHv6d",
        "colab_type": "code",
        "colab": {
          "base_uri": "https://localhost:8080/",
          "height": 564
        },
        "outputId": "5ba0e52e-20bb-483b-8a75-732f40bd9c20"
      },
      "source": [
        "from keras.applications.vgg16 import VGG16\n",
        "from keras.utils.vis_utils import plot_model\n",
        "\n",
        "plot_model(model, to_file='vgg.png')"
      ],
      "execution_count": null,
      "outputs": [
        {
          "output_type": "execute_result",
          "data": {
            "image/png": "[encoded data removed]",
            "text/plain": [
              "<IPython.core.display.Image object>"
            ]
          },
          "metadata": {
            "tags": []
          },
          "execution_count": 53
        }
      ]
    },
    {
      "cell_type": "code",
      "metadata": {
        "id": "MegH-KY8Lasw",
        "colab_type": "code",
        "colab": {}
      },
      "source": [
        ""
      ],
      "execution_count": null,
      "outputs": []
    }
  ]
}