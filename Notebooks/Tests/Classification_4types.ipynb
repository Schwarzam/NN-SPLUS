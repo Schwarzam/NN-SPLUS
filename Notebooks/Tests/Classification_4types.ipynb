{
  "nbformat": 4,
  "nbformat_minor": 0,
  "metadata": {
    "colab": {
      "name": "Classification_4types.ipynb",
      "provenance": [],
      "authorship_tag": "ABX9TyOZKj3pAwLPWkVH33mH8Ib+",
      "include_colab_link": true
    },
    "kernelspec": {
      "name": "python3",
      "display_name": "Python 3"
    }
  },
  "cells": [
    {
      "cell_type": "markdown",
      "metadata": {
        "id": "view-in-github",
        "colab_type": "text"
      },
      "source": [
        "<a href=\"https://colab.research.google.com/github/Schwarzam/NN-SPLUS/blob/master/Classification_4types.ipynb\" target=\"_parent\"><img src=\"https://colab.research.google.com/assets/colab-badge.svg\" alt=\"Open In Colab\"/></a>"
      ]
    },
    {
      "cell_type": "code",
      "metadata": {
        "id": "OPW0Lo5R0MOp",
        "colab_type": "code",
        "colab": {}
      },
      "source": [
        "import os\n",
        "import shutil\n",
        "import zipfile\n",
        "import numpy as np\n",
        "import matplotlib.pyplot as plt\n",
        "import pandas as pd\n",
        "from os import listdir\n",
        "from os.path import isfile, join"
      ],
      "execution_count": null,
      "outputs": []
    },
    {
      "cell_type": "code",
      "metadata": {
        "id": "OL-vKaa3D_ln",
        "colab_type": "code",
        "colab": {}
      },
      "source": [
        "!wget --no-check-certificate \\\n",
        "    https://storage.googleapis.com/trainsets/ClassGalaxies.zip \\\n",
        "    -O /tmp/cats_and_dogs_filtered.zip"
      ],
      "execution_count": null,
      "outputs": []
    },
    {
      "cell_type": "code",
      "metadata": {
        "id": "J3AXsdOR0p59",
        "colab_type": "code",
        "colab": {}
      },
      "source": [
        "local_zip = '/tmp/ClassGalaxies.zip'\n",
        "zip_ref = zipfile.ZipFile(local_zip, 'r')\n",
        "zip_ref.extractall('/tmp/')\n",
        "zip_ref.close()"
      ],
      "execution_count": null,
      "outputs": []
    },
    {
      "cell_type": "code",
      "metadata": {
        "id": "J8wakCy00uM_",
        "colab_type": "code",
        "colab": {}
      },
      "source": [
        "base_dir = '/tmp/Galaxies/'\n",
        "train_dir = os.path.join(base_dir, 'train')\n",
        "test_dir = os.path.join(base_dir, 'test')\n",
        "validation_dir = os.path.join(base_dir, 'validation')\n",
        "\n",
        "# Directory with our training merger pictures\n",
        "train_merger_dir = os.path.join(train_dir, 'Merger')\n",
        "# Directory with our training spiral pictures\n",
        "train_spiral_dir = os.path.join(train_dir, 'Spiral')\n",
        "# Directory with our training elliptical pictures\n",
        "train_elliptical_dir = os.path.join(train_dir, 'Elliptical')\n",
        "# Directory with our training lenticular pictures\n",
        "train_lenticular_dir = os.path.join(train_dir, 'Lenticular')\n",
        "\n",
        "# Directory with our training merger pictures\n",
        "test_merger_dir = os.path.join(test_dir, 'Merger')\n",
        "# Directory with our training spiral pictures\n",
        "test_spiral_dir = os.path.join(test_dir, 'Spiral')\n",
        "# Directory with our training elliptical pictures\n",
        "test_elliptical_dir = os.path.join(test_dir, 'Elliptical')\n",
        "# Directory with our training lenticular pictures\n",
        "test_lenticular_dir = os.path.join(test_dir, 'Lenticular')\n",
        "\n",
        "# Directory with our validation merger pictures\n",
        "validation_merger_dir = os.path.join(validation_dir, 'Merger')\n",
        "# Directory with our validation spiral pictures\n",
        "validation_spiral_dir = os.path.join(validation_dir, 'Spiral')\n",
        "# Directory with our validation elliptical pictures\n",
        "validation_elliptical_dir = os.path.join(validation_dir, 'Elliptical')\n",
        "# Directory with our validation lenticular pictures\n",
        "validation_lenticular_dir = os.path.join(validation_dir, 'Lenticular')\n",
        "\n",
        "try:\n",
        "  os.mkdir(train_dir)\n",
        "  os.mkdir(test_dir)\n",
        "  os.mkdir(validation_dir)\n",
        "except:\n",
        "  pass\n",
        "\n",
        "try:\n",
        "  os.mkdir(train_merger_dir)\n",
        "  os.mkdir(train_spiral_dir)\n",
        "  os.mkdir(train_elliptical_dir)\n",
        "  os.mkdir(train_lenticular_dir)\n",
        "\n",
        "  os.mkdir(test_merger_dir)\n",
        "  os.mkdir(test_spiral_dir)\n",
        "  os.mkdir(test_elliptical_dir)\n",
        "  os.mkdir(test_lenticular_dir)\n",
        "\n",
        "  os.mkdir(validation_merger_dir)\n",
        "  os.mkdir(validation_spiral_dir)\n",
        "  os.mkdir(validation_elliptical_dir)\n",
        "  os.mkdir(validation_lenticular_dir)\n",
        "except:\n",
        "  pass"
      ],
      "execution_count": null,
      "outputs": []
    },
    {
      "cell_type": "code",
      "metadata": {
        "id": "dPxQzu3u5lXy",
        "colab_type": "code",
        "colab": {}
      },
      "source": [
        "Merger_dir = os.path.join(base_dir, 'Merger')\n",
        "Spiral_dir = os.path.join(base_dir, 'Spiral')\n",
        "Elliptical_dir = os.path.join(base_dir, 'Elliptical')\n",
        "Lenticular_dir = os.path.join(base_dir, 'Lenticular')"
      ],
      "execution_count": null,
      "outputs": []
    },
    {
      "cell_type": "code",
      "metadata": {
        "id": "zF4SXFUQ22SR",
        "colab_type": "code",
        "colab": {}
      },
      "source": [
        "train_set = 0.7\n",
        "test_set = 0.2\n",
        "val_set = 0.1"
      ],
      "execution_count": null,
      "outputs": []
    },
    {
      "cell_type": "code",
      "metadata": {
        "id": "yxGxQCNu4XOa",
        "colab_type": "code",
        "colab": {}
      },
      "source": [
        "source_dirs = [Merger_dir, Spiral_dir, Elliptical_dir, Lenticular_dir]\n",
        "\n",
        "## create train dirs\n",
        "for src in source_dirs:\n",
        "  files = [f for f in listdir(src) if isfile(join(src, f))]\n",
        "\n",
        "  if str(src).split('/')[3] == 'Merger':\n",
        "    dest = train_merger_dir\n",
        "  if str(src).split('/')[3] == 'Spiral':\n",
        "    dest = train_spiral_dir\n",
        "  if str(src).split('/')[3] == 'Elliptical':\n",
        "    dest = train_elliptical_dir\n",
        "  if str(src).split('/')[3] == 'Lenticular':\n",
        "    dest = train_lenticular_dir\n",
        "\n",
        "  files = files[0:int(train_set*len(files))]\n",
        "\n",
        "  for filename in files:\n",
        "    source = os.path.join(src, filename)\n",
        "    dst = os.path.join(dest, filename)\n",
        "    shutil.copyfile(source, dst)\n",
        "    del source\n",
        "    dst = dest"
      ],
      "execution_count": null,
      "outputs": []
    },
    {
      "cell_type": "code",
      "metadata": {
        "id": "I0-cbjyp27MH",
        "colab_type": "code",
        "colab": {}
      },
      "source": [
        "## create test dirs\n",
        "for src in source_dirs:\n",
        "  files = [f for f in listdir(src) if isfile(join(src, f))]\n",
        "\n",
        "  if str(src).split('/')[3] == 'Merger':\n",
        "    dest = test_merger_dir\n",
        "  if str(src).split('/')[3] == 'Spiral':\n",
        "    dest = test_spiral_dir\n",
        "  if str(src).split('/')[3] == 'Elliptical':\n",
        "    dest = test_elliptical_dir\n",
        "  if str(src).split('/')[3] == 'Lenticular':\n",
        "    dest = test_lenticular_dir\n",
        "\n",
        "  files = files[int(train_set*len(files)):int(train_set*len(files)) + int(test_set*len(files))]\n",
        "\n",
        "  for filename in files:\n",
        "    source = os.path.join(src, filename)\n",
        "    dst = os.path.join(dest, filename)\n",
        "    shutil.copyfile(source, dst)\n",
        "    del source\n",
        "    dst = dest"
      ],
      "execution_count": null,
      "outputs": []
    },
    {
      "cell_type": "code",
      "metadata": {
        "id": "Ktajb0p93K_1",
        "colab_type": "code",
        "colab": {}
      },
      "source": [
        "## create validation dirs\n",
        "for src in source_dirs:\n",
        "  files = [f for f in listdir(src) if isfile(join(src, f))]\n",
        "\n",
        "  if str(src).split('/')[3] == 'Merger':\n",
        "    dest = validation_merger_dir\n",
        "  if str(src).split('/')[3] == 'Spiral':\n",
        "    dest = validation_spiral_dir\n",
        "  if str(src).split('/')[3] == 'Elliptical':\n",
        "    dest = validation_elliptical_dir\n",
        "  if str(src).split('/')[3] == 'Lenticular':\n",
        "    dest = validation_lenticular_dir\n",
        "\n",
        "  files = files[int(train_set*len(files)) + int(test_set*len(files)):int(train_set*len(files)) + int(test_set*len(files)) + int(val_set*len(files))]\n",
        "\n",
        "  for filename in files:\n",
        "    source = os.path.join(src, filename)\n",
        "    dst = os.path.join(dest, filename)\n",
        "    shutil.copyfile(source, dst)\n",
        "    del source\n",
        "    dst = dest"
      ],
      "execution_count": null,
      "outputs": []
    },
    {
      "cell_type": "code",
      "metadata": {
        "id": "nMEimu5b8tty",
        "colab_type": "code",
        "colab": {
          "base_uri": "https://localhost:8080/",
          "height": 68
        },
        "outputId": "b21ffa74-eeb0-44c3-cb1d-9a8ae7081835"
      },
      "source": [
        "from keras.preprocessing.image import ImageDataGenerator\n",
        "\n",
        "train_datagen = ImageDataGenerator(rescale=1./255,\n",
        "                                   rotation_range=40,\n",
        "                                   width_shift_range=0.2,\n",
        "                                   height_shift_range=0.2,\n",
        "                                   shear_range=0.2,\n",
        "                                   zoom_range=0.2,\n",
        "                                   horizontal_flip=True)\n",
        "\n",
        "validation_datagen = ImageDataGenerator(rescale=1./255)\n",
        "test_datagen = ImageDataGenerator(rescale=1./255)\n",
        "\n",
        "train_generator = train_datagen.flow_from_directory(\n",
        "    train_dir,\n",
        "    target_size=(217,217),\n",
        "    batch_size=20,\n",
        "    class_mode='categorical'\n",
        ")\n",
        "\n",
        "test_generator = test_datagen.flow_from_directory(\n",
        "    test_dir,\n",
        "    target_size=(217,217),\n",
        "    batch_size=20,\n",
        "    class_mode='categorical'\n",
        ")\n",
        "\n",
        "validation_generator = validation_datagen.flow_from_directory(\n",
        "    validation_dir,\n",
        "    target_size=(217,217),\n",
        "    batch_size=20,\n",
        "    class_mode='categorical'\n",
        ")"
      ],
      "execution_count": null,
      "outputs": [
        {
          "output_type": "stream",
          "text": [
            "Found 1867 images belonging to 4 classes.\n",
            "Found 532 images belonging to 4 classes.\n",
            "Found 265 images belonging to 4 classes.\n"
          ],
          "name": "stdout"
        }
      ]
    },
    {
      "cell_type": "code",
      "metadata": {
        "id": "XmkgI3jtD2-z",
        "colab_type": "code",
        "colab": {}
      },
      "source": [
        "from keras import layers, models\n",
        "\n",
        "model = models.Sequential()\n",
        "model.add(layers.Conv2D(32, (3,3), activation='relu', input_shape=(217, 217, 3)))\n",
        "model.add(layers.MaxPooling2D((2,2)))\n",
        "model.add(layers.Conv2D(128, (3,3), activation='relu'))\n",
        "model.add(layers.MaxPooling2D((2,2)))\n",
        "model.add(layers.Flatten())\n",
        "model.add(layers.Dropout(0.5))\n",
        "model.add(layers.Dense(256, activation='relu'))\n",
        "model.add(layers.Dense(4, activation='softmax'))"
      ],
      "execution_count": null,
      "outputs": []
    },
    {
      "cell_type": "code",
      "metadata": {
        "id": "hBx6n6U0ENgv",
        "colab_type": "code",
        "colab": {}
      },
      "source": [
        "from keras import optimizers\n",
        "model.compile(loss = 'categorical_crossentropy', \n",
        "              optimizer=optimizers.RMSprop(lr=1e-4),\n",
        "              metrics=['accuracy'])"
      ],
      "execution_count": null,
      "outputs": []
    },
    {
      "cell_type": "code",
      "metadata": {
        "id": "yN7f3_j_ETnG",
        "colab_type": "code",
        "colab": {
          "base_uri": "https://localhost:8080/",
          "height": 1000
        },
        "outputId": "01df1e52-2278-4f68-8c28-ef5786cc5ac4"
      },
      "source": [
        "history = model.fit_generator(\n",
        "      train_generator,\n",
        "      epochs=60,\n",
        "      validation_data=test_generator,\n",
        "      verbose=2)"
      ],
      "execution_count": null,
      "outputs": [
        {
          "output_type": "stream",
          "text": [
            "Epoch 1/60\n",
            "94/94 - 16s - loss: 0.6270 - accuracy: 0.7520 - val_loss: 0.8065 - val_accuracy: 0.6447\n",
            "Epoch 2/60\n",
            "94/94 - 16s - loss: 0.6068 - accuracy: 0.7579 - val_loss: 1.0905 - val_accuracy: 0.5639\n",
            "Epoch 3/60\n",
            "94/94 - 16s - loss: 0.6190 - accuracy: 0.7563 - val_loss: 0.9706 - val_accuracy: 0.5808\n",
            "Epoch 4/60\n",
            "94/94 - 16s - loss: 0.6045 - accuracy: 0.7702 - val_loss: 1.0913 - val_accuracy: 0.5564\n",
            "Epoch 5/60\n",
            "94/94 - 16s - loss: 0.6054 - accuracy: 0.7697 - val_loss: 1.2154 - val_accuracy: 0.5695\n",
            "Epoch 6/60\n",
            "94/94 - 16s - loss: 0.6016 - accuracy: 0.7659 - val_loss: 0.8370 - val_accuracy: 0.6692\n",
            "Epoch 7/60\n",
            "94/94 - 16s - loss: 0.5641 - accuracy: 0.7868 - val_loss: 0.5795 - val_accuracy: 0.7838\n",
            "Epoch 8/60\n",
            "94/94 - 16s - loss: 0.5969 - accuracy: 0.7708 - val_loss: 1.5278 - val_accuracy: 0.4793\n",
            "Epoch 9/60\n",
            "94/94 - 16s - loss: 0.5573 - accuracy: 0.7836 - val_loss: 0.5877 - val_accuracy: 0.7914\n",
            "Epoch 10/60\n",
            "94/94 - 16s - loss: 0.5976 - accuracy: 0.7691 - val_loss: 1.1616 - val_accuracy: 0.5583\n",
            "Epoch 11/60\n",
            "94/94 - 16s - loss: 0.5613 - accuracy: 0.7868 - val_loss: 0.6697 - val_accuracy: 0.7575\n",
            "Epoch 12/60\n",
            "94/94 - 16s - loss: 0.5697 - accuracy: 0.7745 - val_loss: 1.2052 - val_accuracy: 0.5301\n",
            "Epoch 13/60\n",
            "94/94 - 16s - loss: 0.5457 - accuracy: 0.7949 - val_loss: 1.5723 - val_accuracy: 0.4925\n",
            "Epoch 14/60\n",
            "94/94 - 16s - loss: 0.5448 - accuracy: 0.7890 - val_loss: 0.9402 - val_accuracy: 0.6222\n",
            "Epoch 15/60\n",
            "94/94 - 16s - loss: 0.5472 - accuracy: 0.7954 - val_loss: 0.7044 - val_accuracy: 0.7143\n",
            "Epoch 16/60\n",
            "94/94 - 16s - loss: 0.5541 - accuracy: 0.7879 - val_loss: 0.6086 - val_accuracy: 0.8008\n",
            "Epoch 17/60\n",
            "94/94 - 16s - loss: 0.5446 - accuracy: 0.7927 - val_loss: 0.5361 - val_accuracy: 0.8120\n",
            "Epoch 18/60\n",
            "94/94 - 16s - loss: 0.5241 - accuracy: 0.7981 - val_loss: 1.1393 - val_accuracy: 0.5714\n",
            "Epoch 19/60\n",
            "94/94 - 16s - loss: 0.5414 - accuracy: 0.7874 - val_loss: 0.4992 - val_accuracy: 0.8177\n",
            "Epoch 20/60\n",
            "94/94 - 16s - loss: 0.5269 - accuracy: 0.8024 - val_loss: 0.6753 - val_accuracy: 0.7613\n",
            "Epoch 21/60\n",
            "94/94 - 16s - loss: 0.5211 - accuracy: 0.8066 - val_loss: 0.5093 - val_accuracy: 0.8214\n",
            "Epoch 22/60\n",
            "94/94 - 16s - loss: 0.5308 - accuracy: 0.7986 - val_loss: 0.6701 - val_accuracy: 0.7481\n",
            "Epoch 23/60\n",
            "94/94 - 16s - loss: 0.5187 - accuracy: 0.8029 - val_loss: 0.6759 - val_accuracy: 0.7575\n",
            "Epoch 24/60\n",
            "94/94 - 16s - loss: 0.5008 - accuracy: 0.8024 - val_loss: 0.6066 - val_accuracy: 0.7782\n",
            "Epoch 25/60\n",
            "94/94 - 16s - loss: 0.5531 - accuracy: 0.8002 - val_loss: 0.5235 - val_accuracy: 0.8195\n",
            "Epoch 26/60\n",
            "94/94 - 16s - loss: 0.4982 - accuracy: 0.8125 - val_loss: 0.7568 - val_accuracy: 0.7030\n",
            "Epoch 27/60\n",
            "94/94 - 16s - loss: 0.5241 - accuracy: 0.7986 - val_loss: 0.7606 - val_accuracy: 0.7105\n",
            "Epoch 28/60\n",
            "94/94 - 16s - loss: 0.5024 - accuracy: 0.8061 - val_loss: 0.8507 - val_accuracy: 0.6654\n",
            "Epoch 29/60\n",
            "94/94 - 16s - loss: 0.4896 - accuracy: 0.8163 - val_loss: 0.4722 - val_accuracy: 0.8271\n",
            "Epoch 30/60\n",
            "94/94 - 16s - loss: 0.4990 - accuracy: 0.8082 - val_loss: 1.0620 - val_accuracy: 0.5771\n",
            "Epoch 31/60\n",
            "94/94 - 16s - loss: 0.4998 - accuracy: 0.8168 - val_loss: 0.6389 - val_accuracy: 0.7726\n",
            "Epoch 32/60\n",
            "94/94 - 16s - loss: 0.4824 - accuracy: 0.8179 - val_loss: 0.7610 - val_accuracy: 0.7218\n",
            "Epoch 33/60\n",
            "94/94 - 16s - loss: 0.4873 - accuracy: 0.8174 - val_loss: 0.7933 - val_accuracy: 0.6974\n",
            "Epoch 34/60\n",
            "94/94 - 16s - loss: 0.4845 - accuracy: 0.8168 - val_loss: 0.5188 - val_accuracy: 0.8120\n",
            "Epoch 35/60\n",
            "94/94 - 16s - loss: 0.4890 - accuracy: 0.8131 - val_loss: 0.5912 - val_accuracy: 0.7970\n",
            "Epoch 36/60\n",
            "94/94 - 16s - loss: 0.4862 - accuracy: 0.8152 - val_loss: 0.7517 - val_accuracy: 0.7293\n",
            "Epoch 37/60\n",
            "94/94 - 16s - loss: 0.4796 - accuracy: 0.8168 - val_loss: 0.5546 - val_accuracy: 0.8195\n",
            "Epoch 38/60\n",
            "94/94 - 16s - loss: 0.4581 - accuracy: 0.8211 - val_loss: 1.1521 - val_accuracy: 0.5827\n",
            "Epoch 39/60\n",
            "94/94 - 16s - loss: 0.4706 - accuracy: 0.8195 - val_loss: 1.6900 - val_accuracy: 0.5338\n",
            "Epoch 40/60\n",
            "94/94 - 16s - loss: 0.4870 - accuracy: 0.8216 - val_loss: 0.5649 - val_accuracy: 0.8102\n",
            "Epoch 41/60\n",
            "94/94 - 16s - loss: 0.4747 - accuracy: 0.8206 - val_loss: 0.5023 - val_accuracy: 0.8289\n",
            "Epoch 42/60\n",
            "94/94 - 16s - loss: 0.4552 - accuracy: 0.8222 - val_loss: 0.6334 - val_accuracy: 0.7707\n",
            "Epoch 43/60\n",
            "94/94 - 16s - loss: 0.4678 - accuracy: 0.8291 - val_loss: 0.5485 - val_accuracy: 0.8083\n",
            "Epoch 44/60\n",
            "94/94 - 16s - loss: 0.4633 - accuracy: 0.8222 - val_loss: 0.4396 - val_accuracy: 0.8459\n",
            "Epoch 45/60\n",
            "94/94 - 16s - loss: 0.4639 - accuracy: 0.8195 - val_loss: 0.6519 - val_accuracy: 0.7801\n",
            "Epoch 46/60\n",
            "94/94 - 16s - loss: 0.4538 - accuracy: 0.8259 - val_loss: 0.4246 - val_accuracy: 0.8515\n",
            "Epoch 47/60\n",
            "94/94 - 16s - loss: 0.4588 - accuracy: 0.8297 - val_loss: 0.7524 - val_accuracy: 0.7237\n",
            "Epoch 48/60\n",
            "94/94 - 16s - loss: 0.4469 - accuracy: 0.8297 - val_loss: 1.4389 - val_accuracy: 0.5714\n",
            "Epoch 49/60\n",
            "94/94 - 16s - loss: 0.4669 - accuracy: 0.8238 - val_loss: 0.5044 - val_accuracy: 0.8177\n",
            "Epoch 50/60\n",
            "94/94 - 16s - loss: 0.4634 - accuracy: 0.8227 - val_loss: 0.4913 - val_accuracy: 0.8158\n",
            "Epoch 51/60\n",
            "94/94 - 16s - loss: 0.4497 - accuracy: 0.8254 - val_loss: 0.5669 - val_accuracy: 0.7932\n",
            "Epoch 52/60\n",
            "94/94 - 16s - loss: 0.4320 - accuracy: 0.8297 - val_loss: 1.0411 - val_accuracy: 0.6222\n",
            "Epoch 53/60\n",
            "94/94 - 16s - loss: 0.4366 - accuracy: 0.8302 - val_loss: 2.1538 - val_accuracy: 0.4850\n",
            "Epoch 54/60\n",
            "94/94 - 16s - loss: 0.4495 - accuracy: 0.8286 - val_loss: 0.6364 - val_accuracy: 0.7556\n",
            "Epoch 55/60\n",
            "94/94 - 16s - loss: 0.4298 - accuracy: 0.8382 - val_loss: 0.4070 - val_accuracy: 0.8440\n",
            "Epoch 56/60\n",
            "94/94 - 16s - loss: 0.4385 - accuracy: 0.8356 - val_loss: 0.5820 - val_accuracy: 0.7989\n",
            "Epoch 57/60\n",
            "94/94 - 16s - loss: 0.4343 - accuracy: 0.8340 - val_loss: 0.4714 - val_accuracy: 0.8440\n",
            "Epoch 58/60\n",
            "94/94 - 16s - loss: 0.4416 - accuracy: 0.8291 - val_loss: 1.0474 - val_accuracy: 0.6203\n",
            "Epoch 59/60\n",
            "94/94 - 16s - loss: 0.4572 - accuracy: 0.8200 - val_loss: 0.4933 - val_accuracy: 0.8365\n",
            "Epoch 60/60\n",
            "94/94 - 16s - loss: 0.4357 - accuracy: 0.8350 - val_loss: 0.5036 - val_accuracy: 0.8308\n"
          ],
          "name": "stdout"
        }
      ]
    },
    {
      "cell_type": "code",
      "metadata": {
        "id": "kXveEtjZEXPW",
        "colab_type": "code",
        "colab": {
          "base_uri": "https://localhost:8080/",
          "height": 51
        },
        "outputId": "15064977-d2f6-425f-e107-bd88fdf071b1"
      },
      "source": [
        "resultado = model.evaluate(validation_generator)\n",
        "resultado"
      ],
      "execution_count": null,
      "outputs": [
        {
          "output_type": "stream",
          "text": [
            "14/14 [==============================] - 0s 26ms/step - loss: 0.4870 - accuracy: 0.8340\n"
          ],
          "name": "stdout"
        },
        {
          "output_type": "execute_result",
          "data": {
            "text/plain": [
              "[0.4869776964187622, 0.8339622616767883]"
            ]
          },
          "metadata": {
            "tags": []
          },
          "execution_count": 137
        }
      ]
    },
    {
      "cell_type": "code",
      "metadata": {
        "id": "PmfwSSe-F4gj",
        "colab_type": "code",
        "colab": {}
      },
      "source": [
        "acc = history.history['accuracy']\n",
        "val_acc = history.history['val_accuracy']\n",
        "loss = history.history['loss']\n",
        "val_loss = history.history['val_loss']"
      ],
      "execution_count": null,
      "outputs": []
    },
    {
      "cell_type": "code",
      "metadata": {
        "id": "FSDrZksHF--3",
        "colab_type": "code",
        "colab": {
          "base_uri": "https://localhost:8080/",
          "height": 281
        },
        "outputId": "80960f0c-38d4-4030-f465-063bd0be05b2"
      },
      "source": [
        "epochs = range(1, len(acc)+1)\n",
        "\n",
        "plt.plot(epochs, loss, 'b', label='Training Loss')\n",
        "plt.plot(epochs, val_loss, 'r', label='Validation Loss')\n",
        "plt.title('Training and validation Loss')\n",
        "plt.legend()\n",
        "plt.show()"
      ],
      "execution_count": null,
      "outputs": [
        {
          "output_type": "display_data",
          "data": {
            "text/plain": [
              "<Figure size 432x288 with 1 Axes>"
            ],
            "image/png": "[encoded data removed]"
          },
          "metadata": {
            "tags": [],
            "needs_background": "light"
          }
        }
      ]
    },
    {
      "cell_type": "code",
      "metadata": {
        "id": "Z4563ZKDGVGI",
        "colab_type": "code",
        "colab": {
          "base_uri": "https://localhost:8080/",
          "height": 281
        },
        "outputId": "d812d273-713c-49fe-c28e-50ed9b1c6ab3"
      },
      "source": [
        "plt.plot(epochs, acc, 'ko', label='Training acc')\n",
        "plt.plot(epochs, val_acc, 'k', label='Validation acc')\n",
        "plt.title('Training and validation accuracy')\n",
        "plt.legend()\n",
        "plt.show()"
      ],
      "execution_count": null,
      "outputs": [
        {
          "output_type": "display_data",
          "data": {
            "text/plain": [
              "<Figure size 432x288 with 1 Axes>"
            ],
            "image/png": "[encoded data removed]"
          },
          "metadata": {
            "tags": [],
            "needs_background": "light"
          }
        }
      ]
    },
    {
      "cell_type": "code",
      "metadata": {
        "id": "UEKR6LYHNKiM",
        "colab_type": "code",
        "colab": {}
      },
      "source": [
        "img_path = os.path.join(Merger_dir, 'SPLUS.STRIPE82-0001.27137.griz.jpg')\n",
        "\n",
        "from keras.preprocessing import image\n",
        "\n",
        "img = image.load_img(img_path, target_size=(217,217))\n",
        "img_tensor = image.img_to_array(img)\n",
        "img_tensor = np.expand_dims(img_tensor, axis = 0)\n",
        "img_tensor /= 255."
      ],
      "execution_count": null,
      "outputs": []
    },
    {
      "cell_type": "code",
      "metadata": {
        "id": "HvW5F8HJF_u8",
        "colab_type": "code",
        "colab": {}
      },
      "source": [
        "layer_names = []\n",
        "for layer in model.layers:\n",
        "  layer_names.append(layer.name)\n",
        "\n",
        "layer_outputs = [layer.output for layer in model.layers]\n",
        "activation_model = models.Model(inputs=model.input, outputs=layer_outputs)\n",
        "activations = activation_model.predict(img_tensor)\n",
        "\n",
        "images_per_row = 16\n",
        "\n",
        "for layer_name, layer_activation in zip(layer_names, activations):\n",
        "  n_features = layer_activation.shape[-1]\n",
        "\n",
        "  size = layer_activation.shape[1]\n",
        "\n",
        "  n_cols = n_features // images_per_row\n",
        "  display_grid = np.zeros((size * n_cols, images_per_row * size))\n",
        "\n",
        "  for col in range(n_cols):\n",
        "    for row in range(images_per_row):\n",
        "      channel_image = layer_activation[0, :, :, col * images_per_row + row]\n",
        "\n",
        "      channel_image -= channel_image.mean()\n",
        "      channel_image /= channel_image.std()\n",
        "      channel_image *= 64\n",
        "      channel_image += 128\n",
        "      channel_image = np.clip(channel_image, 0, 255). astype('uint8')\n",
        "      display_grid[col * size : (col+1) * size,\n",
        "                   row * size : (row + 1) * size] = channel_image\n",
        "\n",
        "  scale = 1./ size\n",
        "  plt.figure(figsize=(scale * display_grid.shape[1],\n",
        "                      scale * display_grid.shape[0]))\n",
        "  \n",
        "  plt.title(layer_name)\n",
        "  plt.grid(False)\n",
        "  plt.imshow(display_grid, aspect='auto', cmap='viridis')"
      ],
      "execution_count": null,
      "outputs": []
    },
    {
      "cell_type": "code",
      "metadata": {
        "id": "P_qvAijGK2bJ",
        "colab_type": "code",
        "colab": {}
      },
      "source": [
        ""
      ],
      "execution_count": null,
      "outputs": []
    }
  ]
}