{
  "nbformat": 4,
  "nbformat_minor": 0,
  "metadata": {
    "colab": {
      "name": "Classification with pretraining PNG.ipynb",
      "provenance": [],
      "collapsed_sections": [],
      "authorship_tag": "ABX9TyP1+4Or7rHQsISUwn/iCCLk",
      "include_colab_link": true
    },
    "kernelspec": {
      "name": "python3",
      "display_name": "Python 3"
    },
    "accelerator": "GPU"
  },
  "cells": [
    {
      "cell_type": "markdown",
      "metadata": {
        "id": "view-in-github",
        "colab_type": "text"
      },
      "source": [
        "<a href=\"https://colab.research.google.com/github/Schwarzam/NN-SPLUS/blob/master/Classification_with_pretraining_PNG.ipynb\" target=\"_parent\"><img src=\"https://colab.research.google.com/assets/colab-badge.svg\" alt=\"Open In Colab\"/></a>"
      ]
    },
    {
      "cell_type": "code",
      "metadata": {
        "id": "Fe07OGSVokK0",
        "colab_type": "code",
        "colab": {}
      },
      "source": [
        "import os\n",
        "import shutil\n",
        "import zipfile\n",
        "import numpy as np\n",
        "import matplotlib.pyplot as plt\n",
        "import pandas as pd\n",
        "from os import listdir\n",
        "from os.path import isfile, join\n",
        "from keras.utils.vis_utils import plot_model\n",
        "from keras.preprocessing.image import load_img, img_to_array, save_img\n",
        "import matplotlib.image as mpimg"
      ],
      "execution_count": 404,
      "outputs": []
    },
    {
      "cell_type": "code",
      "metadata": {
        "id": "jBB_qeccyHQh",
        "colab_type": "code",
        "colab": {
          "base_uri": "https://localhost:8080/",
          "height": 34
        },
        "outputId": "aa7da24e-50ee-442c-92d9-56a3c6a7632c"
      },
      "source": [
        "from google.colab import drive\n",
        "drive.mount('/content/drive')"
      ],
      "execution_count": 440,
      "outputs": [
        {
          "output_type": "stream",
          "text": [
            "Drive already mounted at /content/drive; to attempt to forcibly remount, call drive.mount(\"/content/drive\", force_remount=True).\n"
          ],
          "name": "stdout"
        }
      ]
    },
    {
      "cell_type": "code",
      "metadata": {
        "id": "c3OtkvaI-tBX",
        "colab_type": "code",
        "colab": {
          "base_uri": "https://localhost:8080/",
          "height": 357
        },
        "outputId": "b234863f-bda5-407b-d71a-40d6330cccf7"
      },
      "source": [
        "gpu_info = !nvidia-smi\n",
        "gpu_info = '\\n'.join(gpu_info)\n",
        "if gpu_info.find('failed') >= 0:\n",
        "  print('Select the Runtime > \"Change runtime type\" menu to enable a GPU accelerator, ')\n",
        "  print('and then re-execute this cell.')\n",
        "else:\n",
        "  print(gpu_info)"
      ],
      "execution_count": 2,
      "outputs": [
        {
          "output_type": "stream",
          "text": [
            "Wed Jul 29 09:08:17 2020       \n",
            "+-----------------------------------------------------------------------------+\n",
            "| NVIDIA-SMI 450.51.05    Driver Version: 418.67       CUDA Version: 10.1     |\n",
            "|-------------------------------+----------------------+----------------------+\n",
            "| GPU  Name        Persistence-M| Bus-Id        Disp.A | Volatile Uncorr. ECC |\n",
            "| Fan  Temp  Perf  Pwr:Usage/Cap|         Memory-Usage | GPU-Util  Compute M. |\n",
            "|                               |                      |               MIG M. |\n",
            "|===============================+======================+======================|\n",
            "|   0  Tesla P100-PCIE...  Off  | 00000000:00:04.0 Off |                    0 |\n",
            "| N/A   33C    P0    25W / 250W |      0MiB / 16280MiB |      0%      Default |\n",
            "|                               |                      |                 ERR! |\n",
            "+-------------------------------+----------------------+----------------------+\n",
            "                                                                               \n",
            "+-----------------------------------------------------------------------------+\n",
            "| Processes:                                                                  |\n",
            "|  GPU   GI   CI        PID   Type   Process name                  GPU Memory |\n",
            "|        ID   ID                                                   Usage      |\n",
            "|=============================================================================|\n",
            "|  No running processes found                                                 |\n",
            "+-----------------------------------------------------------------------------+\n"
          ],
          "name": "stdout"
        }
      ]
    },
    {
      "cell_type": "markdown",
      "metadata": {
        "id": "OAGMDMGS8FlN",
        "colab_type": "text"
      },
      "source": [
        "## Load Files, \n",
        "=> create individual folders for each class\n"
      ]
    },
    {
      "cell_type": "code",
      "metadata": {
        "id": "Q8ujcCguo6W5",
        "colab_type": "code",
        "colab": {
          "base_uri": "https://localhost:8080/",
          "height": 204
        },
        "outputId": "eca4fdb8-bd4e-4588-dd48-a8f3bd196d88"
      },
      "source": [
        "!wget --no-check-certificate \\\n",
        "    https://storage.googleapis.com/trainsets/ClassGal.PNG.zip \\\n",
        "    -O /tmp/ClassGalaxiesPNG.zip"
      ],
      "execution_count": 3,
      "outputs": [
        {
          "output_type": "stream",
          "text": [
            "--2020-07-29 09:08:21--  https://storage.googleapis.com/trainsets/ClassGal.PNG.zip\n",
            "Resolving storage.googleapis.com (storage.googleapis.com)... 108.177.126.128, 108.177.127.128, 172.217.218.128, ...\n",
            "Connecting to storage.googleapis.com (storage.googleapis.com)|108.177.126.128|:443... connected.\n",
            "HTTP request sent, awaiting response... 200 OK\n",
            "Length: 255863120 (244M) [application/zip]\n",
            "Saving to: ‘/tmp/ClassGalaxiesPNG.zip’\n",
            "\n",
            "/tmp/ClassGalaxiesP 100%[===================>] 244.01M  58.5MB/s    in 4.2s    \n",
            "\n",
            "2020-07-29 09:08:26 (58.5 MB/s) - ‘/tmp/ClassGalaxiesPNG.zip’ saved [255863120/255863120]\n",
            "\n"
          ],
          "name": "stdout"
        }
      ]
    },
    {
      "cell_type": "code",
      "metadata": {
        "id": "fOFExiCEo8AM",
        "colab_type": "code",
        "colab": {}
      },
      "source": [
        "local_zip = '/tmp/ClassGalaxiesPNG.zip'\n",
        "zip_ref = zipfile.ZipFile(local_zip, 'r')\n",
        "zip_ref.extractall('/tmp/')\n",
        "zip_ref.close()"
      ],
      "execution_count": 4,
      "outputs": []
    },
    {
      "cell_type": "code",
      "metadata": {
        "id": "m1IBIR6jo-Et",
        "colab_type": "code",
        "colab": {}
      },
      "source": [
        "base_dir = '/tmp/Galaxies/'\n",
        "train_dir = os.path.join(base_dir, 'train')\n",
        "test_dir = os.path.join(base_dir, 'test')\n",
        "validation_dir = os.path.join(base_dir, 'validation')\n",
        "\n",
        "# Directory with our training merger pictures\n",
        "train_merger_dir = os.path.join(train_dir, 'Merger')\n",
        "# Directory with our training spiral pictures\n",
        "train_spiral_dir = os.path.join(train_dir, 'Spiral')\n",
        "# Directory with our training elliptical pictures\n",
        "train_elliptical_dir = os.path.join(train_dir, 'Elliptical')\n",
        "# Directory with our training lenticular pictures\n",
        "train_lenticular_dir = os.path.join(train_dir, 'Lenticular')\n",
        "\n",
        "# Directory with our training merger pictures\n",
        "test_merger_dir = os.path.join(test_dir, 'Merger')\n",
        "# Directory with our training spiral pictures\n",
        "test_spiral_dir = os.path.join(test_dir, 'Spiral')\n",
        "# Directory with our training elliptical pictures\n",
        "test_elliptical_dir = os.path.join(test_dir, 'Elliptical')\n",
        "# Directory with our training lenticular pictures\n",
        "test_lenticular_dir = os.path.join(test_dir, 'Lenticular')\n",
        "\n",
        "# Directory with our validation merger pictures\n",
        "validation_merger_dir = os.path.join(validation_dir, 'Merger')\n",
        "# Directory with our validation spiral pictures\n",
        "validation_spiral_dir = os.path.join(validation_dir, 'Spiral')\n",
        "# Directory with our validation elliptical pictures\n",
        "validation_elliptical_dir = os.path.join(validation_dir, 'Elliptical')\n",
        "# Directory with our validation lenticular pictures\n",
        "validation_lenticular_dir = os.path.join(validation_dir, 'Lenticular')\n",
        "\n",
        "try:\n",
        "  os.mkdir(train_dir)\n",
        "  os.mkdir(test_dir)\n",
        "  os.mkdir(validation_dir)\n",
        "except:\n",
        "  pass\n",
        "\n",
        "try:\n",
        "  os.mkdir(train_merger_dir)\n",
        "  os.mkdir(train_spiral_dir)\n",
        "  os.mkdir(train_elliptical_dir)\n",
        "  os.mkdir(train_lenticular_dir)\n",
        "\n",
        "  os.mkdir(test_merger_dir)\n",
        "  os.mkdir(test_spiral_dir)\n",
        "  os.mkdir(test_elliptical_dir)\n",
        "  os.mkdir(test_lenticular_dir)\n",
        "\n",
        "  os.mkdir(validation_merger_dir)\n",
        "  os.mkdir(validation_spiral_dir)\n",
        "  os.mkdir(validation_elliptical_dir)\n",
        "  os.mkdir(validation_lenticular_dir)\n",
        "except:\n",
        "  pass"
      ],
      "execution_count": 5,
      "outputs": []
    },
    {
      "cell_type": "code",
      "metadata": {
        "id": "SP4Q2LAgpBPm",
        "colab_type": "code",
        "colab": {}
      },
      "source": [
        "Merger_dir = os.path.join(base_dir, 'Merger')\n",
        "Spiral_dir = os.path.join(base_dir, 'Spiral')\n",
        "Elliptical_dir = os.path.join(base_dir, 'Elliptical')\n",
        "Lenticular_dir = os.path.join(base_dir, 'Lenticular')"
      ],
      "execution_count": 6,
      "outputs": []
    },
    {
      "cell_type": "code",
      "metadata": {
        "id": "ZM_U04ZC9KPN",
        "colab_type": "code",
        "colab": {}
      },
      "source": [
        "train_set = 0.7\n",
        "test_set = 0.2\n",
        "val_set = 0.1"
      ],
      "execution_count": 7,
      "outputs": []
    },
    {
      "cell_type": "code",
      "metadata": {
        "id": "SkNjeMy09IbH",
        "colab_type": "code",
        "colab": {}
      },
      "source": [
        "source_dirs = [Merger_dir, Spiral_dir, Elliptical_dir, Lenticular_dir]\n",
        "\n",
        "## create train dirs\n",
        "for src in source_dirs:\n",
        "  files = [f for f in listdir(src) if isfile(join(src, f))]\n",
        "\n",
        "  if str(src).split('/')[3] == 'Merger':\n",
        "    dest = train_merger_dir\n",
        "  if str(src).split('/')[3] == 'Spiral':\n",
        "    dest = train_spiral_dir\n",
        "  if str(src).split('/')[3] == 'Elliptical':\n",
        "    dest = train_elliptical_dir\n",
        "  if str(src).split('/')[3] == 'Lenticular':\n",
        "    dest = train_lenticular_dir\n",
        "\n",
        "  files = files[0:int(train_set*len(files))]\n",
        "\n",
        "  for filename in files:\n",
        "    source = os.path.join(src, filename)\n",
        "    dst = os.path.join(dest, filename)\n",
        "    shutil.copyfile(source, dst)\n",
        "    del source\n",
        "    dst = dest\n",
        "\n",
        "## create test dirs\n",
        "for src in source_dirs:\n",
        "  files = [f for f in listdir(src) if isfile(join(src, f))]\n",
        "\n",
        "  if str(src).split('/')[3] == 'Merger':\n",
        "    dest = test_merger_dir\n",
        "  if str(src).split('/')[3] == 'Spiral':\n",
        "    dest = test_spiral_dir\n",
        "  if str(src).split('/')[3] == 'Elliptical':\n",
        "    dest = test_elliptical_dir\n",
        "  if str(src).split('/')[3] == 'Lenticular':\n",
        "    dest = test_lenticular_dir\n",
        "\n",
        "  files = files[int(train_set*len(files)):int(train_set*len(files)) + int(test_set*len(files))]\n",
        "\n",
        "  for filename in files:\n",
        "    source = os.path.join(src, filename)\n",
        "    dst = os.path.join(dest, filename)\n",
        "    shutil.copyfile(source, dst)\n",
        "    del source\n",
        "    dst = dest\n",
        "\n",
        "## create validation dirs\n",
        "for src in source_dirs:\n",
        "  files = [f for f in listdir(src) if isfile(join(src, f))]\n",
        "\n",
        "  if str(src).split('/')[3] == 'Merger':\n",
        "    dest = validation_merger_dir\n",
        "  if str(src).split('/')[3] == 'Spiral':\n",
        "    dest = validation_spiral_dir\n",
        "  if str(src).split('/')[3] == 'Elliptical':\n",
        "    dest = validation_elliptical_dir\n",
        "  if str(src).split('/')[3] == 'Lenticular':\n",
        "    dest = validation_lenticular_dir\n",
        "\n",
        "  files = files[int(train_set*len(files)) + int(test_set*len(files)):int(train_set*len(files)) + int(test_set*len(files)) + int(val_set*len(files))]\n",
        "\n",
        "  for filename in files:\n",
        "    source = os.path.join(src, filename)\n",
        "    dst = os.path.join(dest, filename)\n",
        "    shutil.copyfile(source, dst)\n",
        "    del source\n",
        "    dst = dest"
      ],
      "execution_count": 8,
      "outputs": []
    },
    {
      "cell_type": "markdown",
      "metadata": {
        "id": "HFJPKXrR8PlP",
        "colab_type": "text"
      },
      "source": [
        "### Image Generator "
      ]
    },
    {
      "cell_type": "code",
      "metadata": {
        "id": "UnosP0V9-MUK",
        "colab_type": "code",
        "colab": {
          "base_uri": "https://localhost:8080/",
          "height": 68
        },
        "outputId": "3672c208-9b44-4544-897d-39c67b4e3cfc"
      },
      "source": [
        "from keras.preprocessing.image import ImageDataGenerator\n",
        "\n",
        "train_datagen = ImageDataGenerator(rescale=1./255,\n",
        "                                   rotation_range=40,\n",
        "                                   width_shift_range=0.2,\n",
        "                                   height_shift_range=0.2,\n",
        "                                   shear_range=0.2,\n",
        "                                   zoom_range=0.2,\n",
        "                                   horizontal_flip=True, \n",
        "                                   fill_mode='nearest')\n",
        "\n",
        "validation_datagen = ImageDataGenerator(rescale=1./255)\n",
        "test_datagen = ImageDataGenerator(rescale=1./255)\n",
        "\n",
        "train_generator = train_datagen.flow_from_directory(\n",
        "    train_dir,\n",
        "    target_size=(256,256),\n",
        "    shuffle=True,\n",
        "    batch_size=10,\n",
        "    class_mode='categorical'\n",
        ")\n",
        "\n",
        "test_generator = test_datagen.flow_from_directory(\n",
        "    test_dir,\n",
        "    target_size=(256,256),\n",
        "    batch_size=10,\n",
        "    class_mode='categorical'\n",
        ")\n",
        "\n",
        "validation_generator = validation_datagen.flow_from_directory(\n",
        "    validation_dir,\n",
        "    target_size=(256,256),\n",
        "    class_mode='categorical',\n",
        "    shuffle='False',\n",
        "    batch_size=1\n",
        ")"
      ],
      "execution_count": 188,
      "outputs": [
        {
          "output_type": "stream",
          "text": [
            "Found 1987 images belonging to 4 classes.\n",
            "Found 568 images belonging to 4 classes.\n",
            "Found 283 images belonging to 4 classes.\n"
          ],
          "name": "stdout"
        }
      ]
    },
    {
      "cell_type": "markdown",
      "metadata": {
        "id": "LhVMKBU48bHz",
        "colab_type": "text"
      },
      "source": [
        "## Base Pre-train"
      ]
    },
    {
      "cell_type": "code",
      "metadata": {
        "id": "j3pg52IUpLOT",
        "colab_type": "code",
        "colab": {
          "base_uri": "https://localhost:8080/",
          "height": 51
        },
        "outputId": "c881b2eb-5d0d-418b-d013-7e564d2872ef"
      },
      "source": [
        "# from keras.applications import VGG16\n",
        "\n",
        "# conv_base = VGG16(weights='imagenet',\n",
        "#                  include_top=False,\n",
        "#                  input_shape=(256, 256, 3))\n",
        "\n",
        "from keras.applications import InceptionV3\n",
        "\n",
        "conv_base = InceptionV3(weights='imagenet',\n",
        "                  include_top=False,\n",
        "                  input_shape=(256, 256, 3))"
      ],
      "execution_count": 55,
      "outputs": [
        {
          "output_type": "stream",
          "text": [
            "Downloading data from https://github.com/fchollet/deep-learning-models/releases/download/v0.5/inception_v3_weights_tf_dim_ordering_tf_kernels_notop.h5\n",
            "87916544/87910968 [==============================] - 4s 0us/step\n"
          ],
          "name": "stdout"
        }
      ]
    },
    {
      "cell_type": "code",
      "metadata": {
        "id": "23Ouz2mUMVzH",
        "colab_type": "code",
        "colab": {}
      },
      "source": [
        "# conv_base.treinable = True\n",
        "\n",
        "# set_trainable = False\n",
        "# for layer in conv_base.layers:\n",
        "#  if layer.name  == 'block5_conv1':\n",
        "#    set_trainable = True\n",
        "#  if set_trainable:\n",
        "#    layer.trainable = True\n",
        "#  else:\n",
        "#    layer.trainable = False"
      ],
      "execution_count": null,
      "outputs": []
    },
    {
      "cell_type": "code",
      "metadata": {
        "id": "6PgDvjH6S2FG",
        "colab_type": "code",
        "colab": {}
      },
      "source": [
        "hist_arr = []"
      ],
      "execution_count": null,
      "outputs": []
    },
    {
      "cell_type": "markdown",
      "metadata": {
        "id": "y1i6BQ2M8fYF",
        "colab_type": "text"
      },
      "source": [
        "## Model"
      ]
    },
    {
      "cell_type": "code",
      "metadata": {
        "id": "jaBPptXcpqr5",
        "colab_type": "code",
        "colab": {}
      },
      "source": [
        "from keras import layers, models\n",
        "from keras.layers import Conv2D\n",
        "\n",
        "model = models.Sequential()\n",
        "\n",
        "model.add(conv_base)\n",
        "\n",
        "model.add(layers.Flatten())\n",
        "\n",
        "model.add(layers.Dense(1024, activation='relu'))\n",
        "model.add(layers.Dropout(0.5))\n",
        "model.add(layers.Dense(256, activation='relu'))\n",
        "#model.add(layers.GlobalAveragePooling2D(name='avg_pool'))\n",
        "model.add(layers.Dense(4, activation='softmax'))"
      ],
      "execution_count": 60,
      "outputs": []
    },
    {
      "cell_type": "code",
      "metadata": {
        "id": "nz6RFaG6-4md",
        "colab_type": "code",
        "colab": {}
      },
      "source": [
        "from keras import optimizers\n",
        "lr = 1e-4\n",
        "model.compile(loss = 'categorical_crossentropy', \n",
        "              optimizer=optimizers.RMSprop(lr=lr),\n",
        "              metrics=['accuracy'])\n"
      ],
      "execution_count": 296,
      "outputs": []
    },
    {
      "cell_type": "markdown",
      "metadata": {
        "id": "xwAR5zvl7zPd",
        "colab_type": "text"
      },
      "source": [
        "## **Function to save to Google Drive**"
      ]
    },
    {
      "cell_type": "code",
      "metadata": {
        "id": "ZUeHMf39chlg",
        "colab_type": "code",
        "colab": {}
      },
      "source": [
        "import time\n",
        "from datetime import date\n",
        "\n",
        "def mark_progress(history, lr):\n",
        "\n",
        "  tempo = time.strftime(\"%H,%M\")\n",
        "  \n",
        "  hoje = date.today()\n",
        "  today1 = hoje.strftime(\"%B %d, %Y\")\n",
        "  today1 = today1.replace(\" \", \"\")\n",
        "\n",
        "  !mkdir '/content/drive/My Drive/TrainSets/Relatorios/'{today1}\n",
        "  !mkdir '/content/drive/My Drive/TrainSets/Relatorios/'{today1}'/'{tempo}\n",
        "\n",
        "  acc = history.history['accuracy']\n",
        "  val_acc = history.history['val_accuracy']\n",
        "  loss = history.history['loss']\n",
        "  val_loss = history.history['val_loss']\n",
        "\n",
        "  today = [today1 for i in loss]\n",
        "\n",
        "  epochs = range(1, len(acc)+1)\n",
        "  lr = [lr for i in loss]\n",
        "\n",
        "  list_of_tuples = list(zip(epochs, lr, acc, val_acc, loss, val_loss, today))\n",
        "\n",
        "  ResultData = pd.DataFrame(list_of_tuples, columns = ['epochs', 'learning_rate','acc', 'val_acc', 'loss', 'val_loss', 'date'])\n",
        "  \n",
        "  plot = plot_model(model, to_file=f\"/content/drive/My Drive/TrainSets/Relatorios/{today1}/{tempo}/ModelUsed.jpg\",\n",
        "        show_shapes=True,\n",
        "        show_layer_names=True,\n",
        "        rankdir=\"TB\",\n",
        "        dpi=96,)\n",
        "  \n",
        "  plt.plot(epochs, filtered, 'b', label='Training Loss')\n",
        "  plt.plot(epochs, val_loss, 'r', label='Validation Loss')\n",
        "  plt.title('Training and validation Loss')\n",
        "  plt.legend()\n",
        "  \n",
        "  plt.savefig(f\"/content/drive/My Drive/TrainSets/Relatorios/{today1}/{tempo}/Validation.jpg\")\n",
        "  plt.clf()\n",
        "\n",
        "  plt.plot(epochs, acc, 'ko', label='Training acc')\n",
        "  plt.plot(epochs, val_acc, 'k', label='Validation acc')\n",
        "  plt.title('Training and validation accuracy')\n",
        "  plt.legend()\n",
        "  \n",
        "  plt.savefig(f\"/content/drive/My Drive/TrainSets/Relatorios/{today1}/{tempo}/Loss.jpg\")\n",
        "  plt.clf()\n",
        "  \n",
        "  ResultData.to_csv(f\"/content/drive/My Drive/TrainSets/Relatorios/{today1}/{tempo}/Data.csv\")\n",
        "  model.save(f\"/content/drive/My Drive/TrainSets/Relatorios/{today1}/{tempo}/Model\")"
      ],
      "execution_count": 438,
      "outputs": []
    },
    {
      "cell_type": "markdown",
      "metadata": {
        "id": "OyhTvc0m7-kE",
        "colab_type": "text"
      },
      "source": [
        "## Train model\n"
      ]
    },
    {
      "cell_type": "code",
      "metadata": {
        "id": "U_dwm4b6-4q_",
        "colab_type": "code",
        "colab": {}
      },
      "source": [
        "def train_model():\n",
        "    history = model.fit(\n",
        "        train_generator,\n",
        "        epochs=15,\n",
        "        validation_data=test_generator,\n",
        "        shuffle=True,\n",
        "        verbose=1)\n",
        "    return history"
      ],
      "execution_count": 210,
      "outputs": []
    },
    {
      "cell_type": "code",
      "metadata": {
        "id": "2Q0JUAHlDZRx",
        "colab_type": "code",
        "colab": {}
      },
      "source": [
        "history = train_model()\n",
        "hist_arr = np.append(hist_arr, history)"
      ],
      "execution_count": null,
      "outputs": []
    },
    {
      "cell_type": "code",
      "metadata": {
        "id": "x0IOdjkwLQXV",
        "colab_type": "code",
        "colab": {
          "base_uri": "https://localhost:8080/",
          "height": 51
        },
        "outputId": "23dcd89c-259f-4db0-fbaa-73697b5d5a83"
      },
      "source": [
        "resultado = model.evaluate(validation_generator)\n",
        "resultado"
      ],
      "execution_count": 208,
      "outputs": [
        {
          "output_type": "stream",
          "text": [
            "9/9 [==============================] - 1s 123ms/step\n"
          ],
          "name": "stdout"
        },
        {
          "output_type": "execute_result",
          "data": {
            "text/plain": [
              "[10.419189453125, 0.7950530052185059]"
            ]
          },
          "metadata": {
            "tags": []
          },
          "execution_count": 208
        }
      ]
    },
    {
      "cell_type": "code",
      "metadata": {
        "id": "sy_KOhiUxc9N",
        "colab_type": "code",
        "colab": {}
      },
      "source": [
        "mark_progress(history, lr)"
      ],
      "execution_count": null,
      "outputs": []
    },
    {
      "cell_type": "code",
      "metadata": {
        "id": "cySpyUBAHf2P",
        "colab_type": "code",
        "colab": {}
      },
      "source": [
        "epochs = range(1, len(acc)+1)"
      ],
      "execution_count": null,
      "outputs": []
    },
    {
      "cell_type": "code",
      "metadata": {
        "id": "HeZE6YnrHrvX",
        "colab_type": "code",
        "colab": {}
      },
      "source": [
        "acc = history.history['accuracy']\n",
        "val_acc = history.history['val_accuracy']\n",
        "loss = history.history['loss']\n",
        "val_loss = history.history['val_loss']"
      ],
      "execution_count": 230,
      "outputs": []
    },
    {
      "cell_type": "code",
      "metadata": {
        "id": "Jw4fD8LXsbU8",
        "colab_type": "code",
        "colab": {
          "base_uri": "https://localhost:8080/",
          "height": 281
        },
        "outputId": "652bbd33-741f-426c-8755-5dd9add58b44"
      },
      "source": [
        "epochs = range(1, len(acc)+1)\n",
        "\n",
        "plt.plot(epochs, filtered, 'b', label='Training Loss')\n",
        "plt.plot(epochs, val_loss, 'r', label='Validation Loss')\n",
        "plt.title('Training and validation Loss')\n",
        "plt.legend()\n",
        "plt.savefig()\n",
        "plt.show()"
      ],
      "execution_count": 114,
      "outputs": [
        {
          "output_type": "display_data",
          "data": {
            "image/png": "[encoded data removed]",
            "text/plain": [
              "<Figure size 432x288 with 1 Axes>"
            ]
          },
          "metadata": {
            "tags": [],
            "needs_background": "light"
          }
        }
      ]
    },
    {
      "cell_type": "code",
      "metadata": {
        "id": "X08jcgAqHt4-",
        "colab_type": "code",
        "colab": {
          "base_uri": "https://localhost:8080/",
          "height": 281
        },
        "outputId": "7e9ffb5d-2a75-4fc8-984e-9454f995d63e"
      },
      "source": [
        "plt.plot(epochs, acc, 'ko', label='Training acc')\n",
        "plt.plot(epochs, val_acc, 'k', label='Validation acc')\n",
        "plt.title('Training and validation accuracy')\n",
        "plt.legend()\n",
        "plt.show()"
      ],
      "execution_count": 207,
      "outputs": [
        {
          "output_type": "display_data",
          "data": {
            "image/png": "[encoded data removed]",
            "text/plain": [
              "<Figure size 432x288 with 1 Axes>"
            ]
          },
          "metadata": {
            "tags": [],
            "needs_background": "light"
          }
        }
      ]
    },
    {
      "cell_type": "markdown",
      "metadata": {
        "id": "n3O4R5u48miI",
        "colab_type": "text"
      },
      "source": [
        "## Testing with single image"
      ]
    },
    {
      "cell_type": "code",
      "metadata": {
        "id": "Saxl0qZ3GnS0",
        "colab_type": "code",
        "colab": {}
      },
      "source": [
        "from keras.preprocessing.image import load_img, img_to_array, save_img\n",
        "img_path = '/content/drive/My Drive/TrainSets/Spiral_test/SPLUS.STRIPE82-0045.12712.griz.jpg'\n",
        "\n",
        "image = load_img(img_path, target_size=(256,256))\n",
        "img = img_to_array(image)\n",
        "img = np.expand_dims(img, axis = 0)"
      ],
      "execution_count": 441,
      "outputs": []
    },
    {
      "cell_type": "code",
      "metadata": {
        "id": "4OB4Jq6ECtMH",
        "colab_type": "code",
        "colab": {
          "base_uri": "https://localhost:8080/",
          "height": 273
        },
        "outputId": "cb4d1144-7e4a-4fb2-b1ba-3de069f51f61"
      },
      "source": [
        "image"
      ],
      "execution_count": 442,
      "outputs": [
        {
          "output_type": "execute_result",
          "data": {
            "image/png": "[encoded data removed]",
            "text/plain": [
              "<PIL.JpegImagePlugin.JpegImageFile image mode=RGB size=256x256 at 0x7F1E24043E80>"
            ]
          },
          "metadata": {
            "tags": []
          },
          "execution_count": 442
        }
      ]
    },
    {
      "cell_type": "code",
      "metadata": {
        "id": "4o6Bn4AImkVe",
        "colab_type": "code",
        "colab": {
          "base_uri": "https://localhost:8080/",
          "height": 51
        },
        "outputId": "ede7dd0e-82c0-46a3-f672-c885f7e05eca"
      },
      "source": [
        "pred = model.predict_classes(img, verbose=1)\n",
        "\n",
        "if pred[0] == 0:\n",
        "    prediction = 'Elliptical'\n",
        "if pred[0] == 1:\n",
        "    prediction = 'Lenticular'\n",
        "if pred[0] == 2:\n",
        "    prediction = 'Merger'\n",
        "if pred[0] == 3:\n",
        "    prediction = 'Spiral'\n",
        "\n",
        "print(prediction)"
      ],
      "execution_count": 443,
      "outputs": [
        {
          "output_type": "stream",
          "text": [
            "\r1/1 [==============================] - 2s 2s/step\n",
            "Merger\n"
          ],
          "name": "stdout"
        }
      ]
    },
    {
      "cell_type": "markdown",
      "metadata": {
        "id": "SIgD3MLk8reS",
        "colab_type": "text"
      },
      "source": [
        "## Testing with test_set, confusion matrix\n"
      ]
    },
    {
      "cell_type": "code",
      "metadata": {
        "id": "J3D-8eDEylGk",
        "colab_type": "code",
        "colab": {}
      },
      "source": [
        "from sklearn.metrics import classification_report, confusion_matrix\n",
        "\n",
        "def plot_confusion_matrix(cm, classes,\n",
        "                          normalize=False,\n",
        "                          title='Confusion matrix',\n",
        "                          cmap=plt.cm.Blues):\n",
        "    \"\"\"\n",
        "    This function prints and plots the confusion matrix.\n",
        "    Normalization can be applied by setting `normalize=True`.\n",
        "    \"\"\"\n",
        "    import itertools\n",
        "    if normalize:\n",
        "        cm = cm.astype('float') / cm.sum(axis=1)[:, np.newaxis]\n",
        "        print(\"Normalized confusion matrix\")\n",
        "    else:\n",
        "        print('Confusion matrix, without normalization')\n",
        "\n",
        "\n",
        "    x = plt.imshow(cm, interpolation='nearest', cmap=cmap)\n",
        "    plt.title(title)\n",
        "    plt.colorbar()\n",
        "    tick_marks = np.arange(len(classes))\n",
        "    plt.xticks(tick_marks, classes, rotation=45)\n",
        "    plt.yticks(tick_marks, classes)\n",
        "\n",
        "    fmt = '.2f' if normalize else 'd'\n",
        "    thresh = cm.max() / 2.\n",
        "    for i, j in itertools.product(range(cm.shape[0]), range(cm.shape[1])):\n",
        "        plt.text(j, i, format(cm[i, j], fmt),\n",
        "                 horizontalalignment=\"center\",\n",
        "                 color=\"white\" if cm[i, j] > thresh else \"black\")\n",
        "\n",
        "    plt.ylabel('True label')\n",
        "    plt.xlabel('Predicted label')\n",
        "    plt.tight_layout()\n",
        "\n",
        "\n",
        "    return x"
      ],
      "execution_count": 560,
      "outputs": []
    },
    {
      "cell_type": "code",
      "metadata": {
        "id": "aKTZ-OpyzRFp",
        "colab_type": "code",
        "colab": {}
      },
      "source": [
        "def get_array_labels(array):\n",
        "  Label_y_pred = []\n",
        "  for x in array:\n",
        "    if x == 0:\n",
        "      Label_y_pred = np.append(Label_y_pred,'Elliptical')\n",
        "    if x == 1:\n",
        "      Label_y_pred = np.append(Label_y_pred,'Lenticular')\n",
        "    if x == 2:\n",
        "      Label_y_pred = np.append(Label_y_pred,'Merger')\n",
        "    if x == 3:\n",
        "      Label_y_pred = np.append(Label_y_pred,'Spiral')\n",
        "  return Label_y_pred"
      ],
      "execution_count": 561,
      "outputs": []
    },
    {
      "cell_type": "code",
      "metadata": {
        "id": "_8nmqU6oymE1",
        "colab_type": "code",
        "colab": {
          "base_uri": "https://localhost:8080/",
          "height": 717
        },
        "outputId": "cf4902f9-2119-40da-fc36-a4489c466619"
      },
      "source": [
        "Y_pred = model.predict_generator(validation_generator)\n",
        "y_pred = np.argmax(Y_pred, axis=1)\n",
        "\n",
        "y_true = validation_generator.labels\n",
        "Label_y_pred = get_array_labels(y_pred)\n",
        "Label_y_true = get_array_labels(y_true)\n",
        "\n",
        "cnf_matrix = confusion_matrix(Label_y_pred, Label_y_true, labels=['Elliptical', 'Lenticular', 'Merger', 'Spiral'])\n",
        "\n",
        "fig = plot_confusion_matrix(cnf_matrix, classes=['Elliptical', 'Lenticular', 'Merger', 'Spiral'],\n",
        "                      title='Confusion matrix, without normalization', normalize=True)\n",
        "\n",
        "type(matrix)\n",
        "target_names = ['Elliptical', 'Lenticular', 'Merger', 'Spiral']\n",
        "print(classification_report(Label_y_true, Label_y_pred, target_names=target_names))\n"
      ],
      "execution_count": 562,
      "outputs": [
        {
          "output_type": "stream",
          "text": [
            "Normalized confusion matrix\n",
            "              precision    recall  f1-score   support\n",
            "\n",
            "  Elliptical       0.19      0.15      0.17        80\n",
            "  Lenticular       0.16      0.17      0.17        76\n",
            "      Merger       0.20      0.18      0.19        51\n",
            "      Spiral       0.28      0.36      0.32        76\n",
            "\n",
            "    accuracy                           0.22       283\n",
            "   macro avg       0.21      0.21      0.21       283\n",
            "weighted avg       0.21      0.22      0.21       283\n",
            "\n"
          ],
          "name": "stdout"
        },
        {
          "output_type": "display_data",
          "data": {
            "image/png": "[encoded data removed]",
            "text/plain": [
              "<Figure size 864x504 with 2 Axes>"
            ]
          },
          "metadata": {
            "tags": [],
            "needs_background": "light"
          }
        }
      ]
    }
  ]
}