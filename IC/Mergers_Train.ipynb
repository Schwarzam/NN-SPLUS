{
  "nbformat": 4,
  "nbformat_minor": 0,
  "metadata": {
    "accelerator": "GPU",
    "colab": {
      "name": "Mergers_Train.ipynb",
      "provenance": [],
      "authorship_tag": "ABX9TyP6HppMLIUCxkrjmK2WMp0n",
      "include_colab_link": true
    },
    "kernelspec": {
      "display_name": "Python 3",
      "name": "python3"
    },
    "language_info": {
      "name": "python"
    }
  },
  "cells": [
    {
      "cell_type": "markdown",
      "metadata": {
        "id": "view-in-github",
        "colab_type": "text"
      },
      "source": [
        "<a href=\"https://colab.research.google.com/github/Schwarzam/NN-SPLUS/blob/master/IC/Mergers_Train.ipynb\" target=\"_parent\"><img src=\"https://colab.research.google.com/assets/colab-badge.svg\" alt=\"Open In Colab\"/></a>"
      ]
    },
    {
      "cell_type": "code",
      "metadata": {
        "colab": {
          "base_uri": "https://localhost:8080/"
        },
        "id": "fhatBWcGjnWw",
        "outputId": "dedd2a96-6ce5-40ad-f9a1-5b8bf47fa69c"
      },
      "source": [
        "from google.colab import drive\n",
        "drive.mount('/content/drive')"
      ],
      "execution_count": null,
      "outputs": [
        {
          "output_type": "stream",
          "name": "stdout",
          "text": [
            "Mounted at /content/drive\n"
          ]
        }
      ]
    },
    {
      "cell_type": "code",
      "metadata": {
        "id": "tldEKKZcjumM"
      },
      "source": [
        "import tensorflow as tf\n",
        "import keras\n",
        "\n",
        "import numpy as np\n",
        "import matplotlib.pyplot as plt\n",
        "\n",
        "from sklearn.model_selection import train_test_split\n",
        "from sklearn import preprocessing\n",
        "\n",
        "from keras.layers import Conv2D, MaxPooling2D, Dense, Dropout, Flatten\n",
        "\n",
        "from keras.preprocessing.image import ImageDataGenerator\n",
        "from keras import layers, models\n",
        "from keras.models import load_model\n",
        "import random \n",
        "\n",
        "import os\n",
        "from os import listdir\n",
        "from os.path import isfile, join\n",
        "from PIL import Image\n",
        "\n",
        "import cv2\n",
        "from skimage.io import imread\n",
        "from sklearn.utils import class_weight\n",
        "\n",
        "import matplotlib.pyplot as plt"
      ],
      "execution_count": null,
      "outputs": []
    },
    {
      "cell_type": "code",
      "metadata": {
        "id": "lpQyKvuwdFDA"
      },
      "source": [
        "IC_folder = '/content/drive/My Drive/IC'\n",
        "## \n",
        "\n",
        "dataset_dir = os.path.join(IC_folder, 'ndataset')"
      ],
      "execution_count": null,
      "outputs": []
    },
    {
      "cell_type": "code",
      "metadata": {
        "id": "bzOg6bNPj55t"
      },
      "source": [
        "img_rows = 128 ## Comprimento imagem\n",
        "img_cols = 128 ## Largura \n",
        "channels = 3 ## 3 porque eh colorida (3 bandas)_\n",
        "\n",
        "def ler_imagens(file_paths, img_rows = img_rows, img_cols = img_cols, channels = channels):\n",
        "  images = []\n",
        "  for file_path in file_paths:\n",
        "    im = np.asarray(Image.open(file_path).convert('RGB'))\n",
        "    images.append(im)\n",
        "\n",
        "  images = np.asarray(images, dtype=np.float32)\n",
        "  images = images / 255.0 #np.max(images) # normalizar\n",
        "  return images\n",
        "  \n",
        "def get_metadata():\n",
        "  label = []\n",
        "  file_paths = []\n",
        "\n",
        "  #Pegar pastas dentro de ./camera\n",
        "  for folder in os.listdir(f'{dataset_dir}/'):\n",
        "      if folder == \"assi\":\n",
        "        print(\"continue\")\n",
        "        continue\n",
        "      if os.path.isdir(f'{dataset_dir}/' + folder):\n",
        "          ## Pegar todos arquivos da pasta\n",
        "          for root, dirs, files in os.walk(os.path.abspath(f\"{dataset_dir}/\" + folder)):\n",
        "              for file in files:\n",
        "                  file_paths.append(os.path.join(root, file))\n",
        "                  label.append(str(folder))\n",
        "  \n",
        "  return label, file_paths"
      ],
      "execution_count": null,
      "outputs": []
    },
    {
      "cell_type": "code",
      "metadata": {
        "id": "_M-2OquDdJ1V"
      },
      "source": [
        ""
      ],
      "execution_count": null,
      "outputs": []
    },
    {
      "cell_type": "code",
      "metadata": {
        "id": "Z17jrZsij_hI",
        "colab": {
          "base_uri": "https://localhost:8080/"
        },
        "outputId": "78b7aa03-5020-4346-e673-163e4d88a1b3"
      },
      "source": [
        "label, files = get_metadata()\n",
        "images = ler_imagens(files)\n",
        "\n",
        "nlabel = []\n",
        "for i in label:\n",
        "  if i == \"rest\":\n",
        "    nlabel.append(0)\n",
        "  else:\n",
        "    nlabel.append(1)"
      ],
      "execution_count": null,
      "outputs": [
        {
          "output_type": "stream",
          "name": "stdout",
          "text": [
            "continue\n"
          ]
        }
      ]
    },
    {
      "cell_type": "code",
      "metadata": {
        "id": "2jg0_yLr1lTR",
        "colab": {
          "base_uri": "https://localhost:8080/"
        },
        "outputId": "ee67be8e-d313-4802-cb32-958a1acdcb8f"
      },
      "source": [
        "label = np.asarray(nlabel)\n",
        "\n",
        "(unique, counts) = np.unique(label, return_counts=True)\n",
        "frequencies = np.asarray((unique, counts)).T\n",
        "\n",
        "print(frequencies)"
      ],
      "execution_count": null,
      "outputs": [
        {
          "output_type": "stream",
          "name": "stdout",
          "text": [
            "[[   0 1501]\n",
            " [   1  535]]\n"
          ]
        }
      ]
    },
    {
      "cell_type": "code",
      "metadata": {
        "id": "ouA0kYfNmGCl"
      },
      "source": [
        ""
      ],
      "execution_count": null,
      "outputs": []
    },
    {
      "cell_type": "code",
      "metadata": {
        "id": "ZM-gtSuFkikC"
      },
      "source": [
        "X_train, X_test, y_train, y_test = train_test_split(images, label, test_size=0.2)\n",
        "X_test, X_val, y_test, y_val = train_test_split(X_test, y_test, test_size=0.2)"
      ],
      "execution_count": null,
      "outputs": []
    },
    {
      "cell_type": "code",
      "metadata": {
        "id": "E1fDyLs51erJ"
      },
      "source": [
        "class_weights = class_weight.compute_class_weight('balanced',\n",
        "                                                 np.unique(label),\n",
        "                                                 label)\n",
        "\n",
        "class_weights = dict(enumerate(class_weights))"
      ],
      "execution_count": null,
      "outputs": []
    },
    {
      "cell_type": "code",
      "metadata": {
        "id": "m5oNLb7zvbZT",
        "colab": {
          "base_uri": "https://localhost:8080/"
        },
        "outputId": "2d1ae834-c60a-44f6-c684-b5c5ff0e63eb"
      },
      "source": [
        "from tensorflow.keras.applications import VGG16\n",
        "\n",
        "conv_base = VGG16(weights='imagenet',\n",
        "                  include_top=False,\n",
        "                  input_shape=(128, 128, 3))"
      ],
      "execution_count": null,
      "outputs": [
        {
          "output_type": "stream",
          "name": "stdout",
          "text": [
            "Downloading data from https://storage.googleapis.com/tensorflow/keras-applications/vgg16/vgg16_weights_tf_dim_ordering_tf_kernels_notop.h5\n",
            "58892288/58889256 [==============================] - 1s 0us/step\n",
            "58900480/58889256 [==============================] - 1s 0us/step\n"
          ]
        }
      ]
    },
    {
      "cell_type": "code",
      "metadata": {
        "id": "rLDbpkhpz9i_"
      },
      "source": [
        "model = models.Sequential()\n",
        "\n",
        "model.add(conv_base)\n",
        "\n",
        "# model.add(layers.Conv2D(512, (3, 3), activation='relu', input_shape=(128, 128, 3)))\n",
        "# model.add(layers.MaxPooling2D((2, 2)))\n",
        "# model.add(layers.Conv2D(256, (3, 3), activation='relu'))\n",
        "# model.add(layers.MaxPooling2D((2, 2)))\n",
        "# model.add(layers.Conv2D(256, (3, 3), activation='relu'))\n",
        "\n",
        "model.add(layers.Flatten())\n",
        "model.add(layers.Dense(256, activation='relu'))\n",
        "model.add(layers.Dropout(0.4))\n",
        "model.add(layers.Dense(128, activation='relu'))\n",
        "\n",
        "model.add(layers.Dense(1, activation='sigmoid'))"
      ],
      "execution_count": null,
      "outputs": []
    },
    {
      "cell_type": "code",
      "metadata": {
        "id": "QHsr68VfOpnB"
      },
      "source": [
        "from tensorflow.keras.utils import plot_model"
      ],
      "execution_count": null,
      "outputs": []
    },
    {
      "cell_type": "code",
      "metadata": {
        "id": "UOdUnXpZOv-t",
        "colab": {
          "base_uri": "https://localhost:8080/",
          "height": 661
        },
        "outputId": "58304d05-3b34-43c6-caae-db553959691a"
      },
      "source": [
        "plot_model(model)"
      ],
      "execution_count": null,
      "outputs": [
        {
          "output_type": "execute_result",
          "data": {
            "image/png": "[encoded data removed]",
            "text/plain": [
              "<IPython.core.display.Image object>"
            ]
          },
          "metadata": {},
          "execution_count": 9
        }
      ]
    },
    {
      "cell_type": "code",
      "metadata": {
        "id": "5KDvWVAZ0OyD"
      },
      "source": [
        "from tensorflow.keras import optimizers\n",
        "\n",
        "sgd = optimizers.SGD(learning_rate=1e-4, decay=1e-5, momentum=0.9, nesterov=True)\n",
        "\n",
        "model.compile(loss = 'binary_crossentropy', \n",
        "              optimizer=sgd,\n",
        "              metrics=['accuracy'])"
      ],
      "execution_count": null,
      "outputs": []
    },
    {
      "cell_type": "code",
      "metadata": {
        "id": "RYj-NrqdX-HM"
      },
      "source": [
        ""
      ],
      "execution_count": null,
      "outputs": []
    },
    {
      "cell_type": "code",
      "metadata": {
        "colab": {
          "base_uri": "https://localhost:8080/"
        },
        "id": "LjB86k8b0Q5t",
        "outputId": "0b80fa38-e148-4a59-d260-219cab81883c"
      },
      "source": [
        "history = model.fit(X_train, y_train,\n",
        "          epochs=15,\n",
        "          validation_data=(X_test, y_test),\n",
        "          verbose=1, \n",
        "          class_weight=class_weights)"
      ],
      "execution_count": null,
      "outputs": [
        {
          "output_type": "stream",
          "name": "stdout",
          "text": [
            "Epoch 1/15\n",
            "51/51 [==============================] - 22s 414ms/step - loss: 0.4472 - accuracy: 0.8704 - val_loss: 0.2639 - val_accuracy: 0.9202\n",
            "Epoch 2/15\n",
            "51/51 [==============================] - 15s 297ms/step - loss: 0.2491 - accuracy: 0.9398 - val_loss: 0.3010 - val_accuracy: 0.9080\n",
            "Epoch 3/15\n",
            "51/51 [==============================] - 15s 297ms/step - loss: 0.2272 - accuracy: 0.9398 - val_loss: 0.3253 - val_accuracy: 0.9018\n",
            "Epoch 4/15\n",
            "51/51 [==============================] - 15s 298ms/step - loss: 0.2320 - accuracy: 0.9410 - val_loss: 0.3133 - val_accuracy: 0.9018\n",
            "Epoch 5/15\n",
            "51/51 [==============================] - 15s 297ms/step - loss: 0.2053 - accuracy: 0.9392 - val_loss: 0.2917 - val_accuracy: 0.9110\n",
            "Epoch 6/15\n",
            "51/51 [==============================] - 15s 297ms/step - loss: 0.1762 - accuracy: 0.9502 - val_loss: 0.2763 - val_accuracy: 0.9172\n",
            "Epoch 7/15\n",
            "51/51 [==============================] - 15s 297ms/step - loss: 0.1725 - accuracy: 0.9509 - val_loss: 0.2822 - val_accuracy: 0.9141\n",
            "Epoch 8/15\n",
            "51/51 [==============================] - 15s 297ms/step - loss: 0.1728 - accuracy: 0.9459 - val_loss: 0.2757 - val_accuracy: 0.9141\n",
            "Epoch 9/15\n",
            "51/51 [==============================] - 15s 297ms/step - loss: 0.1609 - accuracy: 0.9576 - val_loss: 0.2947 - val_accuracy: 0.9141\n",
            "Epoch 10/15\n",
            "51/51 [==============================] - 15s 297ms/step - loss: 0.1474 - accuracy: 0.9588 - val_loss: 0.2851 - val_accuracy: 0.9141\n",
            "Epoch 11/15\n",
            "51/51 [==============================] - 15s 297ms/step - loss: 0.1396 - accuracy: 0.9588 - val_loss: 0.3084 - val_accuracy: 0.9080\n",
            "Epoch 12/15\n",
            "51/51 [==============================] - 15s 297ms/step - loss: 0.1457 - accuracy: 0.9607 - val_loss: 0.3125 - val_accuracy: 0.9018\n",
            "Epoch 13/15\n",
            "51/51 [==============================] - 15s 297ms/step - loss: 0.1368 - accuracy: 0.9601 - val_loss: 0.2998 - val_accuracy: 0.9080\n",
            "Epoch 14/15\n",
            "51/51 [==============================] - 15s 297ms/step - loss: 0.1269 - accuracy: 0.9644 - val_loss: 0.3288 - val_accuracy: 0.9049\n",
            "Epoch 15/15\n",
            "51/51 [==============================] - 15s 297ms/step - loss: 0.1214 - accuracy: 0.9650 - val_loss: 0.3254 - val_accuracy: 0.9018\n"
          ]
        }
      ]
    },
    {
      "cell_type": "code",
      "metadata": {
        "colab": {
          "base_uri": "https://localhost:8080/",
          "height": 573
        },
        "id": "1Yrgl5M_awwZ",
        "outputId": "110252f1-aa86-455d-f1bf-ec0e4cb49749"
      },
      "source": [
        "plt.plot(history.history['accuracy'])\n",
        "plt.plot(history.history['val_accuracy'])\n",
        "plt.title('model accuracy')\n",
        "plt.ylabel('accuracy')\n",
        "plt.xlabel('epoch')\n",
        "plt.legend(['train', 'test'], loc='upper left')\n",
        "plt.show()\n",
        "# summarize history for loss\n",
        "plt.plot(history.history['loss'])\n",
        "plt.plot(history.history['val_loss'])\n",
        "plt.title('model loss')\n",
        "plt.ylabel('loss')\n",
        "plt.xlabel('epoch')\n",
        "plt.legend(['train', 'test'], loc='upper left')\n",
        "plt.show()"
      ],
      "execution_count": null,
      "outputs": [
        {
          "output_type": "display_data",
          "data": {
            "image/png": "[encoded data removed]",
            "text/plain": [
              "<Figure size 432x288 with 1 Axes>"
            ]
          },
          "metadata": {
            "needs_background": "light"
          }
        },
        {
          "output_type": "display_data",
          "data": {
            "image/png": "[encoded data removed]",
            "text/plain": [
              "<Figure size 432x288 with 1 Axes>"
            ]
          },
          "metadata": {
            "needs_background": "light"
          }
        }
      ]
    },
    {
      "cell_type": "code",
      "metadata": {
        "id": "inwRV9jbh5pI",
        "colab": {
          "base_uri": "https://localhost:8080/"
        },
        "outputId": "0418ab2f-e66c-458e-cbba-9a2e9c476cef"
      },
      "source": [
        "model.evaluate(X_val, y_val)"
      ],
      "execution_count": null,
      "outputs": [
        {
          "output_type": "stream",
          "name": "stdout",
          "text": [
            "3/3 [==============================] - 0s 95ms/step - loss: 0.0721 - accuracy: 0.9756\n"
          ]
        },
        {
          "output_type": "execute_result",
          "data": {
            "text/plain": [
              "[0.0721157044172287, 0.9756097793579102]"
            ]
          },
          "metadata": {},
          "execution_count": 59
        }
      ]
    },
    {
      "cell_type": "code",
      "metadata": {
        "id": "yUcg0OnFs4ot",
        "colab": {
          "base_uri": "https://localhost:8080/"
        },
        "outputId": "c916719e-0252-4870-a7dd-a7372a355f80"
      },
      "source": [
        "model.evaluate(X_val, y_val)"
      ],
      "execution_count": null,
      "outputs": [
        {
          "output_type": "stream",
          "name": "stdout",
          "text": [
            "3/3 [==============================] - 0s 89ms/step - loss: 0.0721 - accuracy: 0.9756\n"
          ]
        },
        {
          "output_type": "execute_result",
          "data": {
            "text/plain": [
              "[0.0721157044172287, 0.9756097793579102]"
            ]
          },
          "metadata": {},
          "execution_count": 60
        }
      ]
    },
    {
      "cell_type": "code",
      "metadata": {
        "id": "l_6tdhGathf7"
      },
      "source": [
        "pred = model.predict(X_val)"
      ],
      "execution_count": null,
      "outputs": []
    },
    {
      "cell_type": "code",
      "metadata": {
        "id": "wi-JE7X0pGD9"
      },
      "source": [
        "model.save(os.path.join(IC_folder, 'modelTradicional.h5'))"
      ],
      "execution_count": null,
      "outputs": []
    },
    {
      "cell_type": "code",
      "metadata": {
        "id": "OafXNSAzeyP_"
      },
      "source": [
        ""
      ],
      "execution_count": null,
      "outputs": []
    },
    {
      "cell_type": "code",
      "metadata": {
        "id": "sp9rM3hLjcPK"
      },
      "source": [
        "def plot_figs(arr):\n",
        "  fig, axs = plt.subplots(4,4, figsize=(12, 12), facecolor='w', edgecolor='k')\n",
        "  fig.subplots_adjust(hspace = .5, wspace=.001)\n",
        "\n",
        "  axs = axs.ravel()\n",
        "  for key, value in enumerate(arr):\n",
        "    if key > 15:\n",
        "      break\n",
        "\n",
        "    try:\n",
        "      axs[key].imshow(arr[key])\n",
        "      #axs[key].set_title(f'{Label_y_pred[value]}, {Y_pred[value]}' )\n",
        "      axs[key].plot()\n",
        "\n",
        "      axs[key].set_yticklabels([])\n",
        "      axs[key].set_xticklabels([])\n",
        "    except:\n",
        "      pass"
      ],
      "execution_count": null,
      "outputs": []
    },
    {
      "cell_type": "code",
      "metadata": {
        "id": "WQeVZ4z2jco3"
      },
      "source": [
        "ind = np.where(pred > 0.5)[0]"
      ],
      "execution_count": null,
      "outputs": []
    },
    {
      "cell_type": "code",
      "metadata": {
        "colab": {
          "base_uri": "https://localhost:8080/"
        },
        "id": "7NLZj_NwjrhT",
        "outputId": "7a23025c-4b68-4bf3-82da-94c039cea243"
      },
      "source": [
        "pip install splusdata"
      ],
      "execution_count": null,
      "outputs": [
        {
          "output_type": "stream",
          "name": "stdout",
          "text": [
            "Collecting splusdata\n",
            "  Downloading splusdata-3.75-py3-none-any.whl (30 kB)\n",
            "Requirement already satisfied: tqdm in /usr/local/lib/python3.7/dist-packages (from splusdata) (4.62.0)\n",
            "Requirement already satisfied: astropy in /usr/local/lib/python3.7/dist-packages (from splusdata) (4.3.1)\n",
            "Collecting astroquery\n",
            "  Downloading astroquery-0.4.3-py3-none-any.whl (4.4 MB)\n",
            "\u001b[K     |████████████████████████████████| 4.4 MB 6.7 MB/s \n",
            "\u001b[?25hRequirement already satisfied: numpy in /usr/local/lib/python3.7/dist-packages (from splusdata) (1.19.5)\n",
            "Requirement already satisfied: pandas in /usr/local/lib/python3.7/dist-packages (from splusdata) (1.1.5)\n",
            "Requirement already satisfied: requests in /usr/local/lib/python3.7/dist-packages (from splusdata) (2.23.0)\n",
            "Requirement already satisfied: scipy in /usr/local/lib/python3.7/dist-packages (from splusdata) (1.4.1)\n",
            "Requirement already satisfied: pyerfa>=1.7.3 in /usr/local/lib/python3.7/dist-packages (from astropy->splusdata) (2.0.0)\n",
            "Requirement already satisfied: importlib-metadata in /usr/local/lib/python3.7/dist-packages (from astropy->splusdata) (4.6.4)\n",
            "Requirement already satisfied: html5lib>=0.999 in /usr/local/lib/python3.7/dist-packages (from astroquery->splusdata) (1.0.1)\n",
            "Requirement already satisfied: six in /usr/local/lib/python3.7/dist-packages (from astroquery->splusdata) (1.15.0)\n",
            "Requirement already satisfied: beautifulsoup4>=4.3.2 in /usr/local/lib/python3.7/dist-packages (from astroquery->splusdata) (4.6.3)\n",
            "Collecting keyring>=4.0\n",
            "  Downloading keyring-23.1.0-py3-none-any.whl (32 kB)\n",
            "Collecting pyvo>=1.1\n",
            "  Downloading pyvo-1.1-py3-none-any.whl (802 kB)\n",
            "\u001b[K     |████████████████████████████████| 802 kB 54.0 MB/s \n",
            "\u001b[?25hRequirement already satisfied: webencodings in /usr/local/lib/python3.7/dist-packages (from html5lib>=0.999->astroquery->splusdata) (0.5.1)\n",
            "Collecting jeepney>=0.4.2\n",
            "  Downloading jeepney-0.7.1-py3-none-any.whl (54 kB)\n",
            "\u001b[K     |████████████████████████████████| 54 kB 2.3 MB/s \n",
            "\u001b[?25hCollecting SecretStorage>=3.2\n",
            "  Downloading SecretStorage-3.3.1-py3-none-any.whl (15 kB)\n",
            "Requirement already satisfied: typing-extensions>=3.6.4 in /usr/local/lib/python3.7/dist-packages (from importlib-metadata->astropy->splusdata) (3.7.4.3)\n",
            "Requirement already satisfied: zipp>=0.5 in /usr/local/lib/python3.7/dist-packages (from importlib-metadata->astropy->splusdata) (3.5.0)\n",
            "Collecting mimeparse\n",
            "  Downloading mimeparse-0.1.3.tar.gz (4.4 kB)\n",
            "Requirement already satisfied: certifi>=2017.4.17 in /usr/local/lib/python3.7/dist-packages (from requests->splusdata) (2021.5.30)\n",
            "Requirement already satisfied: chardet<4,>=3.0.2 in /usr/local/lib/python3.7/dist-packages (from requests->splusdata) (3.0.4)\n",
            "Requirement already satisfied: urllib3!=1.25.0,!=1.25.1,<1.26,>=1.21.1 in /usr/local/lib/python3.7/dist-packages (from requests->splusdata) (1.24.3)\n",
            "Requirement already satisfied: idna<3,>=2.5 in /usr/local/lib/python3.7/dist-packages (from requests->splusdata) (2.10)\n",
            "Collecting cryptography>=2.0\n",
            "  Downloading cryptography-3.4.8-cp36-abi3-manylinux_2_24_x86_64.whl (3.0 MB)\n",
            "\u001b[K     |████████████████████████████████| 3.0 MB 34.4 MB/s \n",
            "\u001b[?25hRequirement already satisfied: cffi>=1.12 in /usr/local/lib/python3.7/dist-packages (from cryptography>=2.0->SecretStorage>=3.2->keyring>=4.0->astroquery->splusdata) (1.14.6)\n",
            "Requirement already satisfied: pycparser in /usr/local/lib/python3.7/dist-packages (from cffi>=1.12->cryptography>=2.0->SecretStorage>=3.2->keyring>=4.0->astroquery->splusdata) (2.20)\n",
            "Requirement already satisfied: python-dateutil>=2.7.3 in /usr/local/lib/python3.7/dist-packages (from pandas->splusdata) (2.8.2)\n",
            "Requirement already satisfied: pytz>=2017.2 in /usr/local/lib/python3.7/dist-packages (from pandas->splusdata) (2018.9)\n",
            "Building wheels for collected packages: mimeparse\n",
            "  Building wheel for mimeparse (setup.py) ... \u001b[?25l\u001b[?25hdone\n",
            "  Created wheel for mimeparse: filename=mimeparse-0.1.3-py3-none-any.whl size=3864 sha256=8c132917db39aa29d0575acea087857e8c90aa09e14f380b26a0d23779563555\n",
            "  Stored in directory: /root/.cache/pip/wheels/49/b4/2d/0081759ae1833bd694024801f7aacddcda8a687e8d5fbaeebd\n",
            "Successfully built mimeparse\n",
            "Installing collected packages: jeepney, cryptography, SecretStorage, mimeparse, pyvo, keyring, astroquery, splusdata\n",
            "Successfully installed SecretStorage-3.3.1 astroquery-0.4.3 cryptography-3.4.8 jeepney-0.7.1 keyring-23.1.0 mimeparse-0.1.3 pyvo-1.1 splusdata-3.75\n"
          ]
        }
      ]
    },
    {
      "cell_type": "code",
      "metadata": {
        "colab": {
          "base_uri": "https://localhost:8080/"
        },
        "id": "IK4sS84slO1k",
        "outputId": "4ebb5144-6129-477b-c7aa-df779b3e5ce4"
      },
      "source": [
        "import splusdata\n",
        "import pandas as pd\n",
        "conn = splusdata.connect('###splus.cloud login', '####splus.cloud passowrd')"
      ],
      "execution_count": null,
      "outputs": [
        {
          "output_type": "stream",
          "name": "stdout",
          "text": [
            "You have access to internal data\n"
          ]
        }
      ]
    },
    {
      "cell_type": "code",
      "metadata": {
        "id": "BJZZ88VhyB8H"
      },
      "source": [
        "df = pd.read_csv('https://raw.githubusercontent.com/Schwarzam/Data-analyse---SPLUS-objs/master/DR2_list_fields_reference.cat', delim_whitespace=True)"
      ],
      "execution_count": null,
      "outputs": []
    },
    {
      "cell_type": "markdown",
      "metadata": {
        "id": "n2pChg7wqKv4"
      },
      "source": [
        "### Loop to get all galaxies with r_auto < 16.5 on splusdata and predict\n",
        "\n"
      ]
    },
    {
      "cell_type": "code",
      "metadata": {
        "id": "0cbAYAib0fgc"
      },
      "source": [
        "for field in df['field']:\n",
        "  res = conn.query(f\"\"\"SELECT top 1000 stg.id, stg.ra, stg.dec \n",
        "                    FROM idr3_vacs.star_galaxy_quasar AS stg JOIN idr3.r_band AS r on stg.id = r.id\n",
        "                    WHERE class = 2 and prob_gal > 0.8 AND r.r_auto < 16.5 and r.field = '{field}'\"\"\")\n",
        "  \n",
        "  nim = []\n",
        "  for i in res:\n",
        "    try:\n",
        "      im = conn.get_img(i['RA'], i['DEC'], 128)\n",
        "      im = im.convert('RGB')\n",
        "      im = np.asarray(im)\n",
        "      im = im / 255.0\n",
        "\n",
        "      im = im.reshape(128, 128, 3)\n",
        "      nim.append(im)\n",
        "\n",
        "    except Exception as e:\n",
        "      print(e)\n",
        "      nim.append(np.zeros((128, 128, 3)))\n",
        "      continue\n",
        "\n",
        "\n",
        "\n",
        "  nim = np.asarray(nim)\n",
        "  prds = model.predict(nim)\n",
        "\n",
        "  ind = np.where(prds > 0.7)[0]\n",
        "  res[ind].write(os.path.join(IC_folder, f'predict/catalogs/{field}.csv'), format='csv')\n",
        "  selected_res = res[ind]\n",
        "\n",
        "  for key, value in enumerate(nim[ind]):\n",
        "    h = Image.fromarray((nim[ind][key] * 255).astype('uint8'))\n",
        "    h.save(os.path.join(IC_folder, f\"predict/images/{selected_res[key]['ID']}.png\"))"
      ],
      "execution_count": null,
      "outputs": []
    },
    {
      "cell_type": "code",
      "metadata": {
        "id": "AjtFVdNBoFnl"
      },
      "source": [
        "cats = os.listdir(os.path.join(IC_folder, 'predict/catalogs'))"
      ],
      "execution_count": null,
      "outputs": []
    },
    {
      "cell_type": "code",
      "metadata": {
        "id": "ATIW2HbioRwk"
      },
      "source": [
        "ndf = pd.DataFrame()\n",
        "for i in cats:\n",
        "  df = pd.read_csv(os.path.join(IC_folder, 'predict/catalogs', i))\n",
        "  ndf = ndf.append(df)"
      ],
      "execution_count": null,
      "outputs": []
    },
    {
      "cell_type": "code",
      "metadata": {
        "id": "hzsufouxooNC"
      },
      "source": [
        "ndf.to_csv(os.path.join(IC_folder, 'predicted.csv'))"
      ],
      "execution_count": null,
      "outputs": []
    },
    {
      "cell_type": "code",
      "metadata": {
        "id": "bGoRNuPyqP8a"
      },
      "source": [
        "imas = os.listdir(os.path.join(IC_folder, 'ndataset/mergers'))\n",
        "\n",
        "assi = os.listdir(os.path.join(IC_folder, 'ndataset/assi'))"
      ],
      "execution_count": null,
      "outputs": []
    },
    {
      "cell_type": "code",
      "metadata": {
        "id": "zJjNPW6xqZ7S"
      },
      "source": [
        "file = open(os.path.join(IC_folder, 'trainSet.csv'), 'w')\n",
        "\n",
        "file.write('RA DEC \\n')\n",
        "for i in imas:\n",
        "  i = i.replace('.png', '')\n",
        "\n",
        "  RA = i.split('_')[0]\n",
        "  DEC = i.split('_')[1]\n",
        "  file.write(f'{RA} {DEC}\\n')\n",
        "\n",
        "file.close()"
      ],
      "execution_count": null,
      "outputs": []
    },
    {
      "cell_type": "code",
      "metadata": {
        "id": "bo8znvJ4ruz8"
      },
      "source": [
        "df = pd.read_csv(os.path.join(IC_folder, 'trainSet.csv'), delim_whitespace=True)"
      ],
      "execution_count": null,
      "outputs": []
    },
    {
      "cell_type": "code",
      "metadata": {
        "id": "M94W2Likr0Nj"
      },
      "source": [
        "df.to_csv(os.path.join(IC_folder, 'trainSet.csv'))"
      ],
      "execution_count": null,
      "outputs": []
    },
    {
      "cell_type": "code",
      "metadata": {
        "id": "t9GNalt4qkrt"
      },
      "source": [
        "conn.query(\"\"\"SELECT det.id, det.ra, det.dec \n",
        "              FROM TAP_UPLOAD.upload AS tap JOIN idr3.detection_image \n",
        "              AS det ON 1 = CONTAINS(POINT('', det.ra, det.dec), \n",
        "              CIRCLE('', tap.ra, tap.dec, 1. / 3600))\"\"\", df)"
      ],
      "execution_count": null,
      "outputs": []
    },
    {
      "cell_type": "code",
      "metadata": {
        "id": "rprCh-cRsHcs"
      },
      "source": [
        ""
      ],
      "execution_count": null,
      "outputs": []
    }
  ]
}